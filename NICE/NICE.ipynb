{
 "cells": [
  {
   "cell_type": "markdown",
   "metadata": {},
   "source": [
    "# NICE\n",
    "### Non-Linear Independent Components Estimation\n",
    "### Paper: https://arxiv.org/pdf/1410.8516.pdf\n",
    "### Implementation inspiration: https://github.com/DakshIdnani/pytorch-nice"
   ]
  },
  {
   "cell_type": "markdown",
   "metadata": {},
   "source": [
    "## Import modules"
   ]
  },
  {
   "cell_type": "code",
   "execution_count": null,
   "metadata": {},
   "outputs": [],
   "source": [
    "from os import path\n",
    "import numpy as np \n",
    "import pandas as pd\n",
    "\n",
    "import tensorflow as tf \n",
    "from tensorflow import keras\n",
    "import tensorflow_probability as tfp\n",
    "\n",
    "from sklearn.datasets import fetch_openml\n",
    "from sklearn.model_selection import train_test_split\n",
    "\n",
    "%matplotlib inline\n",
    "import matplotlib.pyplot as plt"
   ]
  },
  {
   "cell_type": "code",
   "execution_count": null,
   "metadata": {},
   "outputs": [],
   "source": [
    "np.random.seed(42)\n",
    "tf.random.set_seed(42)"
   ]
  },
  {
   "cell_type": "code",
   "execution_count": null,
   "metadata": {},
   "outputs": [],
   "source": [
    "data_path = \"mnist_784.csv\""
   ]
  },
  {
   "cell_type": "markdown",
   "metadata": {},
   "source": [
    "## Load and prepare data"
   ]
  },
  {
   "cell_type": "code",
   "execution_count": null,
   "metadata": {},
   "outputs": [],
   "source": [
    "if path.exists(data_path):\n",
    "    data = pd.read_csv(data_path)\n",
    "    X, y = data.iloc[:,:-1].values/255, data.iloc[:,-1].values/255\n",
    "else:\n",
    "    X, y = fetch_openml('mnist_784', version=1, return_X_y=True)\n",
    "    X, y = X/255, y/255\n",
    "\n",
    "X_train, X_test, y_train, y_test = train_test_split(X, y, test_size=0.33, random_state=42)"
   ]
  },
  {
   "cell_type": "code",
   "execution_count": null,
   "metadata": {},
   "outputs": [],
   "source": [
    "plt.imshow(X_train[0,:].reshape(28,28))\n",
    "plt.show()"
   ]
  },
  {
   "cell_type": "markdown",
   "metadata": {},
   "source": [
    "## NICE model"
   ]
  },
  {
   "cell_type": "code",
   "execution_count": null,
   "metadata": {},
   "outputs": [],
   "source": [
    "class ScaleLayer(tf.keras.layers.Layer):\n",
    "    \"\"\"Layer that performs scaling.\"\"\"\n",
    "    def __init__(self,dim):\n",
    "        super(Scale, self).__init__()\n",
    "        S_init = tf.random.normal(shape=(dim,),stddev=.1, dtype=tf.float32)\n",
    "        self.S = tf.Variable(W_init,trainable=True)\n",
    "\n",
    "    def call(self, h, inverse=False):\n",
    "        if inverse == True:\n",
    "            y = tf.multiply(tf.math.exp(-self.S),h)\n",
    "            return y, _\n",
    "        h = tf.multiply(tf.math.exp(self.S),h)\n",
    "        return h, self.S"
   ]
  },
  {
   "cell_type": "code",
   "execution_count": null,
   "metadata": {},
   "outputs": [],
   "source": [
    "class AdditiveCouple(tf.keras.layers.Layer):\n",
    "    \"\"\"Layer for Additive Coupling.\"\"\"\n",
    "    def __init__(self,dim,split_dim,mask):\n",
    "        super(AdditiveCouple, self).__init__()\n",
    "        \n",
    "        # Declare constant to express where to split input\n",
    "        self.split_dim = split_dim\n",
    "        \n",
    "        if mask == 'left':\n",
    "            mask_a = tf.ones(split_dim)\n",
    "            mask_b = tf.zeros(dim-split_dim)\n",
    "            self.mask = tf.concat([mask_a,mask_b],axis=0)\n",
    "        if mask == 'right':\n",
    "            mask_a = tf.zeros(split_dim)\n",
    "            mask_b = tf.ones(dim-split_dim)\n",
    "            self.mask = tf.concat([mask_a,mask_b],axis=0)\n",
    "            \n",
    "        # Declare layers of NeuralNet~m\n",
    "        self.l1 = tf.keras.layers.Dense(dim,activation='relu')\n",
    "        self.l2 = tf.keras.layers.Dense(dim,activation='relu')\n",
    "        self.l3 = tf.keras.layers.Dense(dim,activation='linear')\n",
    "        \n",
    "    def m(self,x):\n",
    "        x = self.l1(x)\n",
    "        x = self.l2(x)\n",
    "        return self.l3(x)\n",
    "\n",
    "    def call(self, x, inverse=False):\n",
    "        if inverse == True:\n",
    "            y1, y2 = self.mask*x, tf.math.abs(self.mask-1)*x\n",
    "            x1, x2 = y1, y2-(self.m(y1)*tf.math.abs(self.mask-1))\n",
    "            return x1+x2\n",
    "        \n",
    "        x1, x2 = self.mask*x, tf.math.abs(self.mask-1)*x\n",
    "        y1, y2 = x1, x2+(self.m(x1)*(tf.math.abs(self.mask-1)*x))\n",
    "        y = x1+x2\n",
    "        return y"
   ]
  },
  {
   "cell_type": "code",
   "execution_count": null,
   "metadata": {},
   "outputs": [],
   "source": [
    "class NICE(keras.Model):\n",
    "    def __init__(self,input_dim,split_dim,**kwargs):\n",
    "        super(NICE, self).__init__(**kwargs)\n",
    "        \n",
    "        # Declare constant to express where to split input\n",
    "        self.split_dim = split_dim\n",
    "        \n",
    "        # Declare prior distribution for output\n",
    "        self.prior = tfp.distributions.Logistic(0, 1,name='Logistic')\n",
    "        # px = self.prior.prob(x)\n",
    "\n",
    "        # Declare coupling layers\n",
    "        self.L1 = AdditiveCouple(dim=input_dim,split_dim=split_dim,mask='left')\n",
    "        self.L2 = AdditiveCouple(dim=input_dim,split_dim=split_dim,mask='right')\n",
    "        self.L3 = AdditiveCouple(dim=input_dim,split_dim=split_dim,mask='left')\n",
    "        self.L4 = AdditiveCouple(dim=input_dim,split_dim=split_dim,mask='right')\n",
    "        \n",
    "        # Declare Scaling layer\n",
    "        self.S = ScaleLayer(dim=input_dim)\n",
    "        \n",
    "    def train_step(self, data):\n",
    "        X, y = data[0], data[1]\n",
    "        with tf.GradientTape() as tape:\n",
    "            # Feed input through model \n",
    "            h1 = self.L1(X)\n",
    "            h2 = self.L2(h1)\n",
    "            h3 = self.L3(h2)\n",
    "            h4 = self.L4(h3)\n",
    "            h, s_vals = self.S(h4)\n",
    "            \n",
    "            # Caculate loss, prior is standard logistic\n",
    "            h = (-1)*tf.math.log(1+tf.exp(h))-tf.log(1+tf.exp(-h))\n",
    "            loss = (tf.math.reduce_sum(h)+tf.math.reduce_sum(s_vals))*(-1)\n",
    "            \n",
    "        grads = tape.gradient(loss, self.trainable_weights)\n",
    "        self.optimizer.apply_gradients(zip(grads, self.trainable_weights))\n",
    "        return {\n",
    "            \"log_likelihood\": loss,\n",
    "        }\n",
    "    \n",
    "    def call(self,data,inverse=False):\n",
    "        if inverse == True:\n",
    "            x = self.prior.sample(1)\n",
    "            h4 = self.S(inverse=True)(x)\n",
    "            h3 = self.L4(inverse=True)(h4)\n",
    "            h2 = self.L3(inverse=True)(h3)\n",
    "            h1 = self.L2(inverse=True)(h2)\n",
    "            x = self.L1(inverse=True)(h1)\n",
    "            return x\n",
    "        else:\n",
    "            h1 = self.L1(data)\n",
    "            h2 = self.L2(h1)\n",
    "            h3 = self.L3(h2)\n",
    "            h4 = self.L4(h3)\n",
    "            h, s_vals = self.S(h4)\n",
    "            h = (-1)*tf.math.log(1+tf.exp(h))-tf.log(1+tf.exp(-h))\n",
    "            return h"
   ]
  },
  {
   "cell_type": "markdown",
   "metadata": {},
   "source": [
    "## Declare and train model"
   ]
  },
  {
   "cell_type": "code",
   "execution_count": null,
   "metadata": {},
   "outputs": [],
   "source": [
    "model = Nice(input_dim=784,split_dim=392)\n",
    "model.compile(optimizer=\"adam\")\n",
    "history = model.fit(X_train, y_train, epochs=3, batch_size=32)"
   ]
  },
  {
   "cell_type": "markdown",
   "metadata": {},
   "source": [
    "## Sample Model"
   ]
  },
  {
   "cell_type": "code",
   "execution_count": null,
   "metadata": {},
   "outputs": [],
   "source": [
    "x = model(inverse=True)"
   ]
  },
  {
   "cell_type": "code",
   "execution_count": null,
   "metadata": {},
   "outputs": [],
   "source": []
  },
  {
   "cell_type": "code",
   "execution_count": null,
   "metadata": {},
   "outputs": [],
   "source": []
  },
  {
   "cell_type": "code",
   "execution_count": null,
   "metadata": {},
   "outputs": [],
   "source": []
  },
  {
   "cell_type": "code",
   "execution_count": null,
   "metadata": {},
   "outputs": [],
   "source": []
  }
 ],
 "metadata": {
  "kernelspec": {
   "display_name": "Python 3",
   "language": "python",
   "name": "python3"
  },
  "language_info": {
   "codemirror_mode": {
    "name": "ipython",
    "version": 3
   },
   "file_extension": ".py",
   "mimetype": "text/x-python",
   "name": "python",
   "nbconvert_exporter": "python",
   "pygments_lexer": "ipython3",
   "version": "3.7.4"
  }
 },
 "nbformat": 4,
 "nbformat_minor": 4
}
