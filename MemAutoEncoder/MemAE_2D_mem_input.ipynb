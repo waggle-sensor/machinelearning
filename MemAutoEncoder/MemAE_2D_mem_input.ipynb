{
 "cells": [
  {
   "cell_type": "markdown",
   "metadata": {},
   "source": [
    "# MemAE 2D Memory Input"
   ]
  },
  {
   "cell_type": "code",
   "execution_count": 1,
   "metadata": {},
   "outputs": [],
   "source": [
    "import os \n",
    "import glob as glob\n",
    "\n",
    "import pandas as pd\n",
    "import numpy as np\n",
    "import tensorflow as tf\n",
    "from tensorflow import keras\n",
    "from tensorflow.keras import layers\n",
    "from tensorflow.keras import Model\n",
    "\n",
    "from PIL import Image\n",
    "import matplotlib.pyplot as plt\n",
    "import matplotlib.image as mpimg"
   ]
  },
  {
   "cell_type": "markdown",
   "metadata": {},
   "source": [
    "Download Fmnist from: https://www.kaggle.com/zalando-research/fashionmnist"
   ]
  },
  {
   "cell_type": "markdown",
   "metadata": {},
   "source": [
    "## Load Data"
   ]
  },
  {
   "cell_type": "code",
   "execution_count": 2,
   "metadata": {},
   "outputs": [],
   "source": [
    "X_train = pd.read_csv(\"F_mnist/train.csv\")\n",
    "X_test = pd.read_csv(\"F_mnist/test.csv\")"
   ]
  },
  {
   "cell_type": "code",
   "execution_count": 3,
   "metadata": {},
   "outputs": [],
   "source": [
    "X_train = X_train.iloc[:,2:].values\n",
    "X_valid = X_test.iloc[:,1:].values\n",
    "\n",
    "X_train, X_valid = X_train/255, X_valid/255"
   ]
  },
  {
   "cell_type": "code",
   "execution_count": 4,
   "metadata": {},
   "outputs": [],
   "source": [
    "X_train = X_train.reshape(X_train.shape[0],28,28)\n",
    "X_valid = X_valid.reshape(X_valid.shape[0],28,28)"
   ]
  },
  {
   "cell_type": "code",
   "execution_count": 5,
   "metadata": {},
   "outputs": [
    {
     "data": {
      "image/png": "[encoded data removed]",
      "text/plain": [
       "<Figure size 432x288 with 1 Axes>"
      ]
     },
     "metadata": {
      "needs_background": "light"
     },
     "output_type": "display_data"
    }
   ],
   "source": [
    "plt.imshow(X_train[6,:,:], cmap=\"gray\")\n",
    "plt.show()"
   ]
  },
  {
   "cell_type": "markdown",
   "metadata": {},
   "source": [
    "## Model"
   ]
  },
  {
   "cell_type": "code",
   "execution_count": 6,
   "metadata": {},
   "outputs": [],
   "source": [
    "class Memory(layers.Layer):\n",
    "    def __init__(self, mem_dim, fea_dim):\n",
    "        super(Memory, self).__init__()\n",
    "        self.mem_dim = mem_dim\n",
    "        self.fea_dim = fea_dim\n",
    "\n",
    "        w_init = tf.random_normal_initializer()\n",
    "        self.w = tf.Variable(\n",
    "            initial_value=w_init(shape=(self.mem_dim, self.fea_dim), dtype=\"float32\"),\n",
    "            trainable=True,\n",
    "        )\n",
    "        \n",
    "    def cosine_sim(self, x1, x2):\n",
    "        num = tf.linalg.matmul(x1, tf.transpose(x2, perm=[1, 0]))\n",
    "        denom =  tf.linalg.matmul(x1**2, tf.transpose(x2, perm=[1,0])**2)\n",
    "        w = (num + 1e-12) / (denom + 1e-12)\n",
    "        return w    \n",
    "        \n",
    "    def call(self, z):\n",
    "        cosim = self.cosine_sim(x1=z, x2=self.w) \n",
    "        atteniton = tf.nn.softmax(cosim)\n",
    "        \n",
    "        lam = 1 / self.mem_dim # deactivate the 1/N of N memories.\n",
    "\n",
    "        addr_num = tf.keras.activations.relu(atteniton - lam) * atteniton\n",
    "        addr_denum = tf.abs(atteniton - lam) + 1e-12\n",
    "        memory_addr = addr_num / addr_denum\n",
    "        renorm = tf.clip_by_value(memory_addr, 1e-12, 1-(1e-12))\n",
    "        z_hat = tf.linalg.matmul(renorm, self.w)\n",
    "        \n",
    "        return z_hat, renorm"
   ]
  },
  {
   "cell_type": "code",
   "execution_count": 7,
   "metadata": {},
   "outputs": [
    {
     "name": "stdout",
     "output_type": "stream",
     "text": [
      "Model: \"encoder\"\n",
      "_________________________________________________________________\n",
      "Layer (type)                 Output Shape              Param #   \n",
      "=================================================================\n",
      "input_1 (InputLayer)         [(None, 28, 28)]          0         \n",
      "_________________________________________________________________\n",
      "flatten (Flatten)            (None, 784)               0         \n",
      "_________________________________________________________________\n",
      "dense (Dense)                (None, 150)               117750    \n",
      "_________________________________________________________________\n",
      "dense_1 (Dense)              (None, 60)                9060      \n",
      "_________________________________________________________________\n",
      "memory (Memory)              ((None, 60), (None, 100)) 6000      \n",
      "=================================================================\n",
      "Total params: 132,810\n",
      "Trainable params: 132,810\n",
      "Non-trainable params: 0\n",
      "_________________________________________________________________\n"
     ]
    }
   ],
   "source": [
    "encoder_inputs = keras.Input(shape=(28, 28))\n",
    "x = keras.layers.Flatten()(encoder_inputs)\n",
    "x = layers.Dense(150,activation=\"selu\")(x)\n",
    "x = layers.Dense(60,activation=\"selu\")(x)\n",
    "z_hat, att = Memory(100,60)(x)\n",
    "encoder = keras.Model(encoder_inputs, [z_hat, att], name=\"encoder\")\n",
    "encoder.summary()"
   ]
  },
  {
   "cell_type": "code",
   "execution_count": 8,
   "metadata": {},
   "outputs": [
    {
     "name": "stdout",
     "output_type": "stream",
     "text": [
      "Model: \"decoder\"\n",
      "_________________________________________________________________\n",
      "Layer (type)                 Output Shape              Param #   \n",
      "=================================================================\n",
      "input_2 (InputLayer)         [(None, 60)]              0         \n",
      "_________________________________________________________________\n",
      "dense_2 (Dense)              (None, 60)                3660      \n",
      "_________________________________________________________________\n",
      "dense_3 (Dense)              (None, 240)               14640     \n",
      "_________________________________________________________________\n",
      "dense_4 (Dense)              (None, 784)               188944    \n",
      "_________________________________________________________________\n",
      "reshape (Reshape)            (None, 28, 28)            0         \n",
      "=================================================================\n",
      "Total params: 207,244\n",
      "Trainable params: 207,244\n",
      "Non-trainable params: 0\n",
      "_________________________________________________________________\n"
     ]
    }
   ],
   "source": [
    "latent_inputs = keras.Input(shape=(60))\n",
    "x = layers.Dense(60,activation=\"selu\")(latent_inputs)\n",
    "x = layers.Dense(240,activation=\"selu\")(x)\n",
    "x = layers.Dense(784,activation=\"selu\")(x)\n",
    "decoder_outputs = keras.layers.Reshape([28, 28])(x)\n",
    "decoder = keras.Model(latent_inputs, decoder_outputs, name=\"decoder\")\n",
    "decoder.summary()"
   ]
  },
  {
   "cell_type": "code",
   "execution_count": 9,
   "metadata": {},
   "outputs": [],
   "source": [
    "class MemAE(keras.Model):\n",
    "    def __init__(self, encoder, decoder, **kwargs):\n",
    "        super(MemAE, self).__init__(**kwargs)\n",
    "        self.encoder = encoder\n",
    "        self.decoder = decoder\n",
    "\n",
    "    def train_step(self, x):\n",
    "    \n",
    "        with tf.GradientTape() as tape:\n",
    "            z_hat, w_hat = self.encoder(x)\n",
    "            x_hat = self.decoder(z_hat)\n",
    "\n",
    "            mse = tf.reduce_sum(tf.square(x - x_hat))\n",
    "            mem_etrp = tf.reduce_sum((-w_hat) * tf.math.log(w_hat + 1e-12))\n",
    "            \n",
    "            loss = tf.reduce_mean(mse + (0.0002 * mem_etrp))\n",
    "            \n",
    "        grads = tape.gradient(loss, self.trainable_weights)\n",
    "        self.optimizer.apply_gradients(zip(grads, self.trainable_weights))\n",
    "        return {\"loss\": loss}\n",
    "    \n",
    "    def test_step(self, data):\n",
    "        x, y = data[0],data[1]\n",
    "        z_hat, w_hat = self.encoder(x)\n",
    "        x_hat = self.decoder(z_hat)\n",
    "\n",
    "        mse = tf.reduce_sum(tf.square(x - x_hat))\n",
    "        mem_etrp = tf.reduce_sum((-w_hat) * tf.math.log(w_hat + 1e-12))\n",
    "        loss = tf.reduce_mean(mse + (0.0002 * mem_etrp))\n",
    "        \n",
    "        return {\"loss\": loss}\n",
    "    \n",
    "    def call(self, inputs):\n",
    "        z_hat, w_hat = self.encoder(inputs)\n",
    "        x_hat = self.decoder(z_hat)\n",
    "        return x_hat, w_hat"
   ]
  },
  {
   "cell_type": "code",
   "execution_count": 10,
   "metadata": {},
   "outputs": [
    {
     "name": "stdout",
     "output_type": "stream",
     "text": [
      "Epoch 1/30\n",
      "1875/1875 [==============================] - 4s 2ms/step - loss: 887.2632 - val_loss: 334.2628\n",
      "Epoch 2/30\n",
      "1875/1875 [==============================] - 3s 2ms/step - loss: 652.8082 - val_loss: 322.3066\n",
      "Epoch 3/30\n",
      "1875/1875 [==============================] - 3s 2ms/step - loss: 598.4542 - val_loss: 302.4684\n",
      "Epoch 4/30\n",
      "1875/1875 [==============================] - 4s 2ms/step - loss: 560.7143 - val_loss: 290.4740\n",
      "Epoch 5/30\n",
      "1875/1875 [==============================] - 4s 2ms/step - loss: 538.0453 - val_loss: 283.9334\n",
      "Epoch 6/30\n",
      "1875/1875 [==============================] - 5s 2ms/step - loss: 521.9096 - val_loss: 277.7840\n",
      "Epoch 7/30\n",
      "1875/1875 [==============================] - 4s 2ms/step - loss: 507.4789 - val_loss: 275.0678\n",
      "Epoch 8/30\n",
      "1875/1875 [==============================] - 4s 2ms/step - loss: 491.7701 - val_loss: 263.7147\n",
      "Epoch 9/30\n",
      "1875/1875 [==============================] - 4s 2ms/step - loss: 480.3267 - val_loss: 259.8246\n",
      "Epoch 10/30\n",
      "1875/1875 [==============================] - 4s 2ms/step - loss: 472.6005 - val_loss: 257.5149\n",
      "Epoch 11/30\n",
      "1875/1875 [==============================] - 4s 2ms/step - loss: 466.0676 - val_loss: 261.6576\n",
      "Epoch 12/30\n",
      "1875/1875 [==============================] - 4s 2ms/step - loss: 460.9806 - val_loss: 260.3203\n",
      "Epoch 13/30\n",
      "1875/1875 [==============================] - 4s 2ms/step - loss: 456.7312 - val_loss: 275.7258\n",
      "Epoch 14/30\n",
      "1875/1875 [==============================] - 4s 2ms/step - loss: 451.9089 - val_loss: 252.9021\n",
      "Epoch 15/30\n",
      "1875/1875 [==============================] - 4s 2ms/step - loss: 444.4486 - val_loss: 254.1413\n",
      "Epoch 16/30\n",
      "1875/1875 [==============================] - 4s 2ms/step - loss: 440.3143 - val_loss: 249.3092\n",
      "Epoch 17/30\n",
      "1875/1875 [==============================] - 4s 2ms/step - loss: 437.1385 - val_loss: 253.1174\n",
      "Epoch 18/30\n",
      "1875/1875 [==============================] - 4s 2ms/step - loss: 434.1735 - val_loss: 250.4433\n",
      "Epoch 19/30\n",
      "1875/1875 [==============================] - 4s 2ms/step - loss: 431.6765 - val_loss: 252.7087\n",
      "Epoch 20/30\n",
      "1875/1875 [==============================] - 4s 2ms/step - loss: 429.0707 - val_loss: 244.4983: 0s -\n",
      "Epoch 21/30\n",
      "1875/1875 [==============================] - 4s 2ms/step - loss: 427.1128 - val_loss: 247.9112\n",
      "Epoch 22/30\n",
      "1875/1875 [==============================] - 4s 2ms/step - loss: 424.9971 - val_loss: 246.6749\n",
      "Epoch 23/30\n",
      "1875/1875 [==============================] - 4s 2ms/step - loss: 423.3145 - val_loss: 247.7522\n",
      "Epoch 24/30\n",
      "1875/1875 [==============================] - 5s 3ms/step - loss: 421.7262 - val_loss: 247.3522\n",
      "Epoch 25/30\n",
      "1875/1875 [==============================] - 6s 3ms/step - loss: 420.1402 - val_loss: 242.0169\n",
      "Epoch 26/30\n",
      "1875/1875 [==============================] - 5s 2ms/step - loss: 418.6013 - val_loss: 244.8360\n",
      "Epoch 27/30\n",
      "1875/1875 [==============================] - 4s 2ms/step - loss: 417.3676 - val_loss: 246.0783\n",
      "Epoch 28/30\n",
      "1875/1875 [==============================] - 4s 2ms/step - loss: 416.0816 - val_loss: 244.4177\n",
      "Epoch 29/30\n",
      "1875/1875 [==============================] - 4s 2ms/step - loss: 414.5685 - val_loss: 243.6391\n",
      "Epoch 30/30\n",
      "1875/1875 [==============================] - 4s 2ms/step - loss: 413.8059 - val_loss: 243.6756\n"
     ]
    },
    {
     "data": {
      "text/plain": [
       "<tensorflow.python.keras.callbacks.History at 0x7fc0ee764438>"
      ]
     },
     "execution_count": 10,
     "metadata": {},
     "output_type": "execute_result"
    }
   ],
   "source": [
    "model = MemAE(encoder, decoder)\n",
    "model.compile(optimizer=keras.optimizers.Adam())\n",
    "model.fit(X_train,validation_data=(X_valid,X_valid), epochs=30, batch_size=32)"
   ]
  },
  {
   "cell_type": "code",
   "execution_count": 33,
   "metadata": {},
   "outputs": [
    {
     "data": {
      "image/png": "[encoded data removed]",
      "text/plain": [
       "<Figure size 432x288 with 1 Axes>"
      ]
     },
     "metadata": {
      "needs_background": "light"
     },
     "output_type": "display_data"
    }
   ],
   "source": [
    "plt.imshow(X_train[8,:,:], cmap=\"gray\")\n",
    "plt.show()"
   ]
  },
  {
   "cell_type": "code",
   "execution_count": 34,
   "metadata": {},
   "outputs": [
    {
     "name": "stdout",
     "output_type": "stream",
     "text": [
      "(1, 28, 28)\n"
     ]
    }
   ],
   "source": [
    "i = X_train[8,:,:].reshape(1,28,28)\n",
    "print(i.shape)\n",
    "xh, _ = model(i)"
   ]
  },
  {
   "cell_type": "code",
   "execution_count": 35,
   "metadata": {},
   "outputs": [
    {
     "data": {
      "image/png": "[encoded data removed]",
      "text/plain": [
       "<Figure size 432x288 with 1 Axes>"
      ]
     },
     "metadata": {
      "needs_background": "light"
     },
     "output_type": "display_data"
    }
   ],
   "source": [
    "plt.imshow(xh[0,:,:], cmap=\"gray\")\n",
    "plt.show()"
   ]
  },
  {
   "cell_type": "code",
   "execution_count": 14,
   "metadata": {},
   "outputs": [
    {
     "data": {
      "image/png": "[encoded data removed]",
      "text/plain": [
       "<Figure size 432x288 with 1 Axes>"
      ]
     },
     "metadata": {
      "needs_background": "light"
     },
     "output_type": "display_data"
    }
   ],
   "source": [
    "noise = np.ones((1,28,28))\n",
    "plt.imshow(noise[0,:,:], cmap=\"gray\")\n",
    "plt.show()"
   ]
  },
  {
   "cell_type": "code",
   "execution_count": 15,
   "metadata": {},
   "outputs": [],
   "source": [
    "xh_noise, _ = model(noise)"
   ]
  },
  {
   "cell_type": "code",
   "execution_count": 16,
   "metadata": {},
   "outputs": [
    {
     "data": {
      "image/png": "[encoded data removed]",
      "text/plain": [
       "<Figure size 432x288 with 1 Axes>"
      ]
     },
     "metadata": {
      "needs_background": "light"
     },
     "output_type": "display_data"
    }
   ],
   "source": [
    "plt.imshow(xh_noise[0,:,:], cmap=\"gray\")\n",
    "plt.show()"
   ]
  },
  {
   "cell_type": "code",
   "execution_count": null,
   "metadata": {},
   "outputs": [],
   "source": []
  },
  {
   "cell_type": "code",
   "execution_count": null,
   "metadata": {},
   "outputs": [],
   "source": []
  }
 ],
 "metadata": {
  "kernelspec": {
   "display_name": "Python 3",
   "language": "python",
   "name": "python3"
  },
  "language_info": {
   "codemirror_mode": {
    "name": "ipython",
    "version": 3
   },
   "file_extension": ".py",
   "mimetype": "text/x-python",
   "name": "python",
   "nbconvert_exporter": "python",
   "pygments_lexer": "ipython3",
   "version": "3.7.3"
  }
 },
 "nbformat": 4,
 "nbformat_minor": 2
}
