{
 "cells": [
  {
   "cell_type": "markdown",
   "metadata": {},
   "source": [
    "# MemAE 3D Memory Input"
   ]
  },
  {
   "cell_type": "code",
   "execution_count": 1,
   "metadata": {},
   "outputs": [],
   "source": [
    "import os \n",
    "import glob as glob\n",
    "\n",
    "import pandas as pd\n",
    "import numpy as np\n",
    "import tensorflow as tf\n",
    "from tensorflow import keras\n",
    "from tensorflow.keras import layers\n",
    "from tensorflow.keras import Model\n",
    "\n",
    "from PIL import Image\n",
    "import matplotlib.pyplot as plt\n",
    "import matplotlib.image as mpimg"
   ]
  },
  {
   "cell_type": "markdown",
   "metadata": {},
   "source": [
    "Download Fmnist from: https://www.kaggle.com/zalando-research/fashionmnist"
   ]
  },
  {
   "cell_type": "markdown",
   "metadata": {},
   "source": [
    "## Load Data"
   ]
  },
  {
   "cell_type": "code",
   "execution_count": 2,
   "metadata": {},
   "outputs": [],
   "source": [
    "X_train = pd.read_csv(\"F_mnist/train.csv\")\n",
    "X_test = pd.read_csv(\"F_mnist/test.csv\")"
   ]
  },
  {
   "cell_type": "code",
   "execution_count": 3,
   "metadata": {},
   "outputs": [],
   "source": [
    "X_train = X_train.iloc[:,2:].values\n",
    "X_valid = X_test.iloc[:,1:].values\n",
    "\n",
    "X_train, X_valid = X_train/255, X_valid/255"
   ]
  },
  {
   "cell_type": "code",
   "execution_count": 4,
   "metadata": {},
   "outputs": [],
   "source": [
    "X_train = X_train.reshape(X_train.shape[0],28,28,1)\n",
    "X_valid = X_valid.reshape(X_valid.shape[0],28,28,1)"
   ]
  },
  {
   "cell_type": "code",
   "execution_count": 5,
   "metadata": {},
   "outputs": [
    {
     "data": {
      "image/png": "[encoded data removed]",
      "text/plain": [
       "<Figure size 432x288 with 1 Axes>"
      ]
     },
     "metadata": {
      "needs_background": "light"
     },
     "output_type": "display_data"
    }
   ],
   "source": [
    "plt.imshow(X_train[6,:,:,0], cmap=\"gray\")\n",
    "plt.show()"
   ]
  },
  {
   "cell_type": "markdown",
   "metadata": {},
   "source": [
    "## Model"
   ]
  },
  {
   "cell_type": "code",
   "execution_count": 6,
   "metadata": {},
   "outputs": [],
   "source": [
    "class Memory(layers.Layer):\n",
    "    def __init__(self, mem_dim, fea_dim):\n",
    "        super(Memory, self).__init__()\n",
    "        self.mem_dim = mem_dim\n",
    "        self.fea_dim = fea_dim\n",
    "\n",
    "        w_init = tf.random_normal_initializer()\n",
    "        self.w = tf.Variable(\n",
    "            initial_value=w_init(shape=(1,1,self.mem_dim, self.fea_dim), dtype=\"float32\"),\n",
    "            trainable=True,\n",
    "        )\n",
    "        \n",
    "    def cosine_sim(self, x1, x2):\n",
    "        num = tf.linalg.matmul(x1, tf.transpose(x2, perm=[0, 1, 3, 2]))\n",
    "        denom =  tf.linalg.matmul(x1**2, tf.transpose(x2, perm=[0, 1, 3, 2])**2)\n",
    "        w = (num + 1e-12) / (denom + 1e-12)\n",
    "        return w    \n",
    "        \n",
    "    def call(self, z):\n",
    "        cosim = self.cosine_sim(x1=z, x2=self.w) \n",
    "        atteniton = tf.nn.softmax(cosim)\n",
    "        \n",
    "        lam = 1 / self.mem_dim # deactivate the 1/N of N memories.\n",
    "\n",
    "        addr_num = tf.keras.activations.relu(atteniton - lam) * atteniton\n",
    "        addr_denum = tf.abs(atteniton - lam) + 1e-12\n",
    "        memory_addr = addr_num / addr_denum\n",
    "        renorm = tf.clip_by_value(memory_addr, 1e-12, 1-(1e-12))\n",
    "        z_hat = tf.linalg.matmul(renorm, self.w)\n",
    "        \n",
    "        return z_hat, renorm"
   ]
  },
  {
   "cell_type": "code",
   "execution_count": 7,
   "metadata": {},
   "outputs": [
    {
     "name": "stdout",
     "output_type": "stream",
     "text": [
      "Model: \"encoder\"\n",
      "_________________________________________________________________\n",
      "Layer (type)                 Output Shape              Param #   \n",
      "=================================================================\n",
      "input_1 (InputLayer)         [(None, 28, 28, 1)]       0         \n",
      "_________________________________________________________________\n",
      "separable_conv2d (SeparableC (None, 14, 14, 32)        73        \n",
      "_________________________________________________________________\n",
      "separable_conv2d_1 (Separabl (None, 7, 7, 64)          2400      \n",
      "_________________________________________________________________\n",
      "memory (Memory)              ((None, 7, 7, 64), (None, 6400      \n",
      "=================================================================\n",
      "Total params: 8,873\n",
      "Trainable params: 8,873\n",
      "Non-trainable params: 0\n",
      "_________________________________________________________________\n"
     ]
    }
   ],
   "source": [
    "encoder_inputs = keras.Input(shape=(28, 28, 1))\n",
    "x = layers.SeparableConv2D(32, 3, activation=\"relu\", strides=2, padding=\"same\")(encoder_inputs)\n",
    "x = layers.SeparableConv2D(64, 3, activation=\"relu\", strides=2, padding=\"same\")(x)\n",
    "z_hat, att = Memory(100,64)(x)\n",
    "encoder = keras.Model(encoder_inputs, [z_hat, att], name=\"encoder\")\n",
    "encoder.summary()"
   ]
  },
  {
   "cell_type": "code",
   "execution_count": 8,
   "metadata": {},
   "outputs": [
    {
     "name": "stdout",
     "output_type": "stream",
     "text": [
      "Model: \"decoder\"\n",
      "_________________________________________________________________\n",
      "Layer (type)                 Output Shape              Param #   \n",
      "=================================================================\n",
      "input_2 (InputLayer)         [(None, 7, 7, 64)]        0         \n",
      "_________________________________________________________________\n",
      "conv2d_transpose (Conv2DTran (None, 14, 14, 64)        36928     \n",
      "_________________________________________________________________\n",
      "conv2d_transpose_1 (Conv2DTr (None, 28, 28, 32)        18464     \n",
      "_________________________________________________________________\n",
      "conv2d_transpose_2 (Conv2DTr (None, 28, 28, 1)         289       \n",
      "=================================================================\n",
      "Total params: 55,681\n",
      "Trainable params: 55,681\n",
      "Non-trainable params: 0\n",
      "_________________________________________________________________\n"
     ]
    }
   ],
   "source": [
    "latent_inputs = keras.Input(shape=(7,7,64))\n",
    "x = layers.Conv2DTranspose(64, 3, activation=\"relu\", strides=2, padding=\"same\")(latent_inputs)\n",
    "x = layers.Conv2DTranspose(32, 3, activation=\"relu\", strides=2, padding=\"same\")(x)\n",
    "decoder_outputs = layers.Conv2DTranspose(1, 3, activation=\"sigmoid\", padding=\"same\")(x)\n",
    "decoder = keras.Model(latent_inputs, decoder_outputs, name=\"decoder\")\n",
    "decoder.summary()"
   ]
  },
  {
   "cell_type": "code",
   "execution_count": 9,
   "metadata": {},
   "outputs": [],
   "source": [
    "class MemAE(keras.Model):\n",
    "    def __init__(self, encoder, decoder, **kwargs):\n",
    "        super(MemAE, self).__init__(**kwargs)\n",
    "        self.encoder = encoder\n",
    "        self.decoder = decoder\n",
    "\n",
    "    def train_step(self, x):\n",
    "    \n",
    "        with tf.GradientTape() as tape:\n",
    "            z_hat, w_hat = self.encoder(x)\n",
    "            x_hat = self.decoder(z_hat)\n",
    "\n",
    "            mse = tf.reduce_sum(tf.square(x - x_hat), axis=(1, 2, 3))\n",
    "            mem_etrp = tf.reduce_sum((-w_hat) * tf.math.log(w_hat + 1e-12), axis=(1, 2, 3))\n",
    "            loss = tf.reduce_mean(mse + (0.0002 * mem_etrp))\n",
    "            \n",
    "        grads = tape.gradient(loss, self.trainable_weights)\n",
    "        self.optimizer.apply_gradients(zip(grads, self.trainable_weights))\n",
    "        return {\"loss\": loss}\n",
    "    \n",
    "    def test_step(self, data):\n",
    "        x, y = data[0],data[1]\n",
    "        z_hat, w_hat = self.encoder(x)\n",
    "        x_hat = self.decoder(z_hat)\n",
    "\n",
    "        mse = tf.reduce_sum(tf.square(x - x_hat), axis=(1, 2, 3))\n",
    "        mem_etrp = tf.reduce_sum((-w_hat) * tf.math.log(w_hat + 1e-12), axis=(1, 2, 3))\n",
    "        loss = tf.reduce_mean(mse + (0.0002 * mem_etrp))\n",
    "        \n",
    "        return {\"loss\": loss}\n",
    "    \n",
    "    def call(self, inputs):\n",
    "        z_hat, w_hat = self.encoder(inputs)\n",
    "        x_hat = self.decoder(z_hat)\n",
    "        return x_hat, w_hat"
   ]
  },
  {
   "cell_type": "code",
   "execution_count": 10,
   "metadata": {},
   "outputs": [
    {
     "name": "stdout",
     "output_type": "stream",
     "text": [
      "Epoch 1/10\n",
      "1875/1875 [==============================] - 74s 39ms/step - loss: 446.8798 - val_loss: 8.9639\n",
      "Epoch 2/10\n",
      "1875/1875 [==============================] - 75s 40ms/step - loss: 197.7689 - val_loss: 6.0915\n",
      "Epoch 3/10\n",
      "1875/1875 [==============================] - 69s 37ms/step - loss: 144.3987 - val_loss: 5.4052\n",
      "Epoch 4/10\n",
      "1875/1875 [==============================] - 69s 37ms/step - loss: 128.7177 - val_loss: 5.1476\n",
      "Epoch 5/10\n",
      "1875/1875 [==============================] - 66s 35ms/step - loss: 121.5231 - val_loss: 4.8727\n",
      "Epoch 6/10\n",
      "1875/1875 [==============================] - 66s 35ms/step - loss: 117.7474 - val_loss: 5.0465\n",
      "Epoch 7/10\n",
      "1875/1875 [==============================] - 70s 37ms/step - loss: 114.3749 - val_loss: 4.9445\n",
      "Epoch 8/10\n",
      "1875/1875 [==============================] - 70s 37ms/step - loss: 111.9115 - val_loss: 4.7103\n",
      "Epoch 9/10\n",
      "1875/1875 [==============================] - 71s 38ms/step - loss: 110.0144 - val_loss: 4.6661\n",
      "Epoch 10/10\n",
      "1875/1875 [==============================] - 71s 38ms/step - loss: 108.6026 - val_loss: 4.5891\n"
     ]
    },
    {
     "data": {
      "text/plain": [
       "<tensorflow.python.keras.callbacks.History at 0x7fdf066e45f8>"
      ]
     },
     "execution_count": 10,
     "metadata": {},
     "output_type": "execute_result"
    }
   ],
   "source": [
    "model = MemAE(encoder, decoder)\n",
    "model.compile(optimizer=keras.optimizers.Adam())\n",
    "model.fit(X_train,validation_data=(X_valid,X_valid), epochs=10, batch_size=32)"
   ]
  },
  {
   "cell_type": "code",
   "execution_count": 11,
   "metadata": {},
   "outputs": [
    {
     "data": {
      "image/png": "[encoded data removed]",
      "text/plain": [
       "<Figure size 432x288 with 1 Axes>"
      ]
     },
     "metadata": {
      "needs_background": "light"
     },
     "output_type": "display_data"
    }
   ],
   "source": [
    "plt.imshow(X_train[1,:,:,0], cmap=\"gray\")\n",
    "plt.show()"
   ]
  },
  {
   "cell_type": "code",
   "execution_count": 12,
   "metadata": {},
   "outputs": [
    {
     "name": "stdout",
     "output_type": "stream",
     "text": [
      "(1, 28, 28, 1)\n",
      "WARNING:tensorflow:Layer mem_ae is casting an input tensor from dtype float64 to the layer's dtype of float32, which is new behavior in TensorFlow 2.  The layer has dtype float32 because its dtype defaults to floatx.\n",
      "\n",
      "If you intended to run this layer in float32, you can safely ignore this warning. If in doubt, this warning is likely only an issue if you are porting a TensorFlow 1.X model to TensorFlow 2.\n",
      "\n",
      "To change all layers to have dtype float64 by default, call `tf.keras.backend.set_floatx('float64')`. To change just this layer, pass dtype='float64' to the layer constructor. If you are the author of this layer, you can disable autocasting by passing autocast=False to the base Layer constructor.\n",
      "\n"
     ]
    }
   ],
   "source": [
    "i = X_train[1,:,:,:].reshape(1,28,28,1)\n",
    "print(i.shape)\n",
    "xh, _ = model(i)"
   ]
  },
  {
   "cell_type": "code",
   "execution_count": 13,
   "metadata": {},
   "outputs": [
    {
     "data": {
      "image/png": "[encoded data removed]",
      "text/plain": [
       "<Figure size 432x288 with 1 Axes>"
      ]
     },
     "metadata": {
      "needs_background": "light"
     },
     "output_type": "display_data"
    }
   ],
   "source": [
    "plt.imshow(xh[0,:,:,0], cmap=\"gray\")\n",
    "plt.show()"
   ]
  },
  {
   "cell_type": "code",
   "execution_count": 14,
   "metadata": {},
   "outputs": [
    {
     "data": {
      "image/png": "[encoded data removed]",
      "text/plain": [
       "<Figure size 432x288 with 1 Axes>"
      ]
     },
     "metadata": {
      "needs_background": "light"
     },
     "output_type": "display_data"
    }
   ],
   "source": [
    "noise = np.ones((1,28,28,1))\n",
    "plt.imshow(noise[0,:,:,0], cmap=\"gray\")\n",
    "plt.show()"
   ]
  },
  {
   "cell_type": "code",
   "execution_count": 15,
   "metadata": {},
   "outputs": [],
   "source": [
    "xh_noise, _ = model(noise)"
   ]
  },
  {
   "cell_type": "code",
   "execution_count": 16,
   "metadata": {},
   "outputs": [
    {
     "data": {
      "image/png": "[encoded data removed]",
      "text/plain": [
       "<Figure size 432x288 with 1 Axes>"
      ]
     },
     "metadata": {
      "needs_background": "light"
     },
     "output_type": "display_data"
    }
   ],
   "source": [
    "plt.imshow(xh_noise[0,:,:,0], cmap=\"gray\")\n",
    "plt.show()"
   ]
  },
  {
   "cell_type": "code",
   "execution_count": null,
   "metadata": {},
   "outputs": [],
   "source": []
  },
  {
   "cell_type": "code",
   "execution_count": null,
   "metadata": {},
   "outputs": [],
   "source": []
  },
  {
   "cell_type": "code",
   "execution_count": null,
   "metadata": {},
   "outputs": [],
   "source": []
  },
  {
   "cell_type": "code",
   "execution_count": null,
   "metadata": {},
   "outputs": [],
   "source": []
  }
 ],
 "metadata": {
  "kernelspec": {
   "display_name": "Python 3",
   "language": "python",
   "name": "python3"
  },
  "language_info": {
   "codemirror_mode": {
    "name": "ipython",
    "version": 3
   },
   "file_extension": ".py",
   "mimetype": "text/x-python",
   "name": "python",
   "nbconvert_exporter": "python",
   "pygments_lexer": "ipython3",
   "version": "3.7.3"
  }
 },
 "nbformat": 4,
 "nbformat_minor": 2
}
