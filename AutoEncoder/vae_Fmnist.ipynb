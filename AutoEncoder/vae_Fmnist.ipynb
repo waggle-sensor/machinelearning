{
  "cells": [
    {
      "cell_type": "markdown",
      "source": [
        "# Simple VAE example"
      ],
      "metadata": {}
    },
    {
      "cell_type": "code",
      "source": [
        "import os \n",
        "import glob as glob\n",
        "import random\n",
        "import time\n",
        "\n",
        "import pandas as pd\n",
        "import numpy as np\n",
        "import tensorflow as tf\n",
        "from tensorflow import keras\n",
        "from tensorflow.keras import layers\n",
        "from tensorflow.keras import backend as K\n",
        "from tensorflow.keras import Model\n",
        "\n",
        "from PIL import Image\n",
        "import matplotlib.pyplot as plt\n",
        "import matplotlib.image as mpimg"
      ],
      "outputs": [],
      "execution_count": 1,
      "metadata": {
        "execution": {
          "iopub.status.busy": "2020-10-27T19:46:30.058Z",
          "iopub.execute_input": "2020-10-27T19:46:30.066Z",
          "iopub.status.idle": "2020-10-27T19:46:34.789Z",
          "shell.execute_reply": "2020-10-27T19:46:34.817Z"
        }
      }
    },
    {
      "cell_type": "markdown",
      "source": [
        "Download F_mnist data set from: https://www.kaggle.com/zalando-research/fashionmnist"
      ],
      "metadata": {
        "nteract": {
          "transient": {
            "deleting": false
          }
        }
      }
    },
    {
      "cell_type": "code",
      "source": [
        "X_train = pd.read_csv(\"F_mnist/train.csv\")\n",
        "X_test = pd.read_csv(\"F_mnist/test.csv\")"
      ],
      "outputs": [],
      "execution_count": 2,
      "metadata": {
        "execution": {
          "iopub.status.busy": "2020-10-27T19:46:34.800Z",
          "iopub.execute_input": "2020-10-27T19:46:34.809Z",
          "iopub.status.idle": "2020-10-27T19:46:40.273Z",
          "shell.execute_reply": "2020-10-27T19:46:40.302Z"
        }
      }
    },
    {
      "cell_type": "code",
      "source": [
        "X_train = X_train.iloc[:,2:].values\n",
        "X_valid = X_test.iloc[:,1:].values\n",
        "\n",
        "X_train, X_valid = X_train/255, X_valid/255"
      ],
      "outputs": [],
      "execution_count": 3,
      "metadata": {
        "execution": {
          "iopub.status.busy": "2020-10-27T19:46:40.285Z",
          "iopub.execute_input": "2020-10-27T19:46:40.293Z",
          "iopub.status.idle": "2020-10-27T19:46:40.589Z",
          "shell.execute_reply": "2020-10-27T19:46:40.646Z"
        }
      }
    },
    {
      "cell_type": "code",
      "source": [
        "X_train = X_train.reshape(X_train.shape[0],28,28)\n",
        "X_valid = X_valid.reshape(X_valid.shape[0],28,28)"
      ],
      "outputs": [],
      "execution_count": 4,
      "metadata": {
        "execution": {
          "iopub.status.busy": "2020-10-27T19:46:40.601Z",
          "iopub.execute_input": "2020-10-27T19:46:40.608Z",
          "iopub.status.idle": "2020-10-27T19:46:40.619Z",
          "shell.execute_reply": "2020-10-27T19:46:40.650Z"
        }
      }
    },
    {
      "cell_type": "code",
      "source": [
        "plt.imshow(X_train[4,:,:], cmap=\"gray\")\n",
        "plt.show()"
      ],
      "outputs": [
        {
          "output_type": "display_data",
          "data": {
            "text/plain": "<Figure size 432x288 with 1 Axes>",
            "image/png": "[encoded data removed]"
          },
          "metadata": {
            "needs_background": "light"
          }
        }
      ],
      "execution_count": 5,
      "metadata": {
        "execution": {
          "iopub.status.busy": "2020-10-27T19:46:40.631Z",
          "iopub.execute_input": "2020-10-27T19:46:40.639Z",
          "iopub.status.idle": "2020-10-27T19:46:40.755Z",
          "shell.execute_reply": "2020-10-27T19:46:40.969Z"
        }
      }
    },
    {
      "cell_type": "markdown",
      "source": [
        "## Custom Model with fit()\n",
        "https://keras.io/guides/customizing_what_happens_in_fit/"
      ],
      "metadata": {}
    },
    {
      "cell_type": "code",
      "source": [
        "class Sampling(layers.Layer):\n",
        "    def call(self, inputs):\n",
        "        mean, log_var = inputs\n",
        "        return tf.random.normal(tf.shape(log_var)) * tf.math.exp(log_var / 2) + mean\n",
        "    \n",
        "def rounded_accuracy(y_true, y_pred):\n",
        "    return keras.metrics.binary_accuracy(tf.round(y_true), tf.round(y_pred))    "
      ],
      "outputs": [],
      "execution_count": 6,
      "metadata": {
        "execution": {
          "iopub.status.busy": "2020-10-27T19:46:40.765Z",
          "iopub.execute_input": "2020-10-27T19:46:40.772Z",
          "iopub.status.idle": "2020-10-27T19:46:40.784Z",
          "shell.execute_reply": "2020-10-27T19:46:40.974Z"
        }
      }
    },
    {
      "cell_type": "code",
      "source": [
        "class VAE(Model):\n",
        "    def train_step(self, data):\n",
        "        # Unpack the data. Its structure depends on your model and\n",
        "        # on what you pass to `fit()`.\n",
        "        x, y = data\n",
        "\n",
        "        with tf.GradientTape() as tape:\n",
        "            y_pred = self(x, training=True)  # Forward pass\n",
        "            # Compute the loss value\n",
        "            # (the loss function is configured in `compile()`)\n",
        "            loss = self.compiled_loss(y, y_pred, regularization_losses=self.losses)\n",
        "\n",
        "        # Compute gradients\n",
        "        trainable_vars = self.trainable_variables\n",
        "        gradients = tape.gradient(loss, trainable_vars)\n",
        "        # Update weights\n",
        "        self.optimizer.apply_gradients(zip(gradients, trainable_vars))\n",
        "        # Update metrics (includes the metric that tracks the loss)\n",
        "        self.compiled_metrics.update_state(y, y_pred)\n",
        "        # Return a dict mapping metric names to current value\n",
        "        return {m.name: m.result() for m in self.metrics}"
      ],
      "outputs": [],
      "execution_count": 7,
      "metadata": {
        "execution": {
          "iopub.status.busy": "2020-10-27T19:46:40.792Z",
          "iopub.execute_input": "2020-10-27T19:46:40.800Z",
          "iopub.status.idle": "2020-10-27T19:46:40.811Z",
          "shell.execute_reply": "2020-10-27T19:46:40.979Z"
        }
      }
    },
    {
      "cell_type": "code",
      "source": [
        "codings_size = 20\n",
        "n_pixels = 28*28\n",
        "\n",
        "inputs = keras.layers.Input(shape=[28, 28])\n",
        "z = keras.layers.Flatten()(inputs)\n",
        "z = keras.layers.Dense(150, activation=\"selu\")(z)\n",
        "z = keras.layers.Dense(100, activation=\"selu\")(z)\n",
        "codings_mean = keras.layers.Dense(codings_size)(z)\n",
        "codings_log_var = keras.layers.Dense(codings_size)(z)\n",
        "codings = Sampling()([codings_mean, codings_log_var])\n",
        "encoder = keras.models.Model(\n",
        "inputs=[inputs], outputs=[codings_mean, codings_log_var, codings])\n",
        "    \n",
        "# Declare decoder\n",
        "decoder_inputs = keras.layers.Input(shape=[codings_size])\n",
        "x = keras.layers.Dense(100, activation=\"selu\")(decoder_inputs)\n",
        "x = keras.layers.Dense(150, activation=\"selu\")(x)\n",
        "x = keras.layers.Dense(28 * 28, activation=\"sigmoid\")(x)\n",
        "outputs = keras.layers.Reshape([28, 28])(x)\n",
        "decoder = keras.models.Model(inputs=[decoder_inputs], outputs=[outputs])\n",
        "        \n",
        "# Declare VAE\n",
        "_, _, codings = encoder(inputs)\n",
        "reconstructions = decoder(codings)\n",
        "\n",
        "vae = VAE(inputs=[inputs], outputs=[reconstructions])  "
      ],
      "outputs": [],
      "execution_count": 8,
      "metadata": {
        "execution": {
          "iopub.status.busy": "2020-10-27T19:46:40.821Z",
          "iopub.execute_input": "2020-10-27T19:46:40.828Z",
          "iopub.status.idle": "2020-10-27T19:46:40.987Z",
          "shell.execute_reply": "2020-10-27T19:46:41.012Z"
        }
      }
    },
    {
      "cell_type": "markdown",
      "source": [
        "## Train model"
      ],
      "metadata": {}
    },
    {
      "cell_type": "code",
      "source": [
        "latent_loss = -0.5 * tf.math.reduce_sum(\n",
        "    1 + codings_log_var - tf.math.exp(codings_log_var) - tf.math.square(codings_mean),\n",
        "    axis=-1)\n",
        "\n",
        "vae.add_loss(tf.math.reduce_mean(latent_loss) / n_pixels)\n",
        "vae.compile(loss=\"binary_crossentropy\", optimizer=\"rmsprop\", metrics=[rounded_accuracy])\n",
        "history = vae.fit(X_train, X_train, epochs=25, batch_size=128,\n",
        "                             validation_data=(X_valid, X_valid))"
      ],
      "outputs": [
        {
          "output_type": "stream",
          "name": "stdout",
          "text": [
            "Epoch 1/25\n",
            "469/469 [==============================] - 3s 6ms/step - loss: 0.3889 - rounded_accuracy: 0.8635 - val_loss: 0.3474 - val_rounded_accuracy: 0.8974\b\b\b\b\b\b\b\b\b\b\b\b\b\b\b\b\b\b\b\b\b\b\b\b\b\b\b\b\b\b\b\b\b\b\b\b\b\b\n",
            "Epoch 2/25\n",
            "469/469 [==============================] - 3s 6ms/step - loss: 0.3423 - rounded_accuracy: 0.8991 - val_loss: 0.3358 - val_rounded_accuracy: 0.8981\b\b\b\b\b\b\b\b\b\b\b\b\b\b\b\b\b\b\b\b\b\b\b\b\b\b\b\b\b\b\b\b\b\b\b\b\b\b\n",
            "Epoch 3/25\n",
            "469/469 [==============================] - 3s 7ms/step - loss: 0.3317 - rounded_accuracy: 0.9070 - val_loss: 0.3263 - val_rounded_accuracy: 0.9103\b\b\b\b\b\b\b\b\b\b\b\b\b\b\b\b\b\b\b\b\b\b\b\b\b\b\b\b\b\b\b\b\b\b\b\b\b\b\n",
            "Epoch 4/25\n",
            "469/469 [==============================] - 3s 7ms/step - loss: 0.3266 - rounded_accuracy: 0.9105 - val_loss: 0.3238 - val_rounded_accuracy: 0.9142\b\b\b\b\b\b\b\b\b\b\b\b\b\b\b\b\b\b\b\b\b\b\b\b\b\b\b\b\b\b\b\b\b\b\b\b\b\b\n",
            "Epoch 5/25\n",
            "469/469 [==============================] - 3s 6ms/step - loss: 0.3233 - rounded_accuracy: 0.9132 - val_loss: 0.3204 - val_rounded_accuracy: 0.9136\b\b\b\b\b\b\b\b\b\b\b\b\b\b\b\b\b\b\b\b\b\b\b\b\b\b\b\b\b\b\b\b\b\b\b\b\b\b\n",
            "Epoch 6/25\n",
            "469/469 [==============================] - 3s 6ms/step - loss: 0.3211 - rounded_accuracy: 0.9151 - val_loss: 0.3230 - val_rounded_accuracy: 0.9081\b\b\b\b\b\b\b\b\b\b\b\b\b\b\b\b\b\b\b\b\b\b\b\b\b\b\b\b\b\b\b\b\b\b\b\b\b\b\n",
            "Epoch 7/25\n",
            "469/469 [==============================] - 3s 6ms/step - loss: 0.3195 - rounded_accuracy: 0.9164 - val_loss: 0.3184 - val_rounded_accuracy: 0.9189\b\b\b\b\b\b\b\b\b\b\b\b\b\b\b\b\b\b\b\b\b\b\b\b\b\b\b\b\b\b\b\b\b\b\b\b\b\b\n",
            "Epoch 8/25\n",
            "469/469 [==============================] - 3s 6ms/step - loss: 0.3182 - rounded_accuracy: 0.9175 - val_loss: 0.3168 - val_rounded_accuracy: 0.9193\b\b\b\b\b\b\b\b\b\b\b\b\b\b\b\b\b\b\b\b\b\b\b\b\b\b\b\b\b\b\b\b\b\b\b\b\b\b\n",
            "Epoch 9/25\n",
            "469/469 [==============================] - 3s 6ms/step - loss: 0.3172 - rounded_accuracy: 0.9182 - val_loss: 0.3142 - val_rounded_accuracy: 0.9209\b\b\b\b\b\b\b\b\b\b\b\b\b\b\b\b\b\b\b\b\b\b\b\b\b\b\b\b\b\b\b\b\b\b\b\b\b\b\n",
            "Epoch 10/25\n",
            "469/469 [==============================] - 3s 6ms/step - loss: 0.3164 - rounded_accuracy: 0.9190 - val_loss: 0.3147 - val_rounded_accuracy: 0.9197\b\b\b\b\b\b\b\b\b\b\b\b\b\b\b\b\b\b\b\b\b\b\b\b\b\b\b\b\b\b\b\b\b\b\b\b\b\b\n",
            "Epoch 11/25\n",
            "469/469 [==============================] - 3s 6ms/step - loss: 0.3157 - rounded_accuracy: 0.9197 - val_loss: 0.3132 - val_rounded_accuracy: 0.9220\b\b\b\b\b\b\b\b\b\b\b\b\b\b\b\b\b\b\b\b\b\b\b\b\b\b\b\b\b\b\b\b\b\b\b\b\b\b\n",
            "Epoch 12/25\n",
            "469/469 [==============================] - 3s 6ms/step - loss: 0.3151 - rounded_accuracy: 0.9201 - val_loss: 0.3133 - val_rounded_accuracy: 0.9201\b\b\b\b\b\b\b\b\b\b\b\b\b\b\b\b\b\b\b\b\b\b\b\b\b\b\b\b\b\b\b\b\b\b\b\b\b\b\n",
            "Epoch 13/25\n",
            "469/469 [==============================] - 3s 6ms/step - loss: 0.3146 - rounded_accuracy: 0.9204 - val_loss: 0.3139 - val_rounded_accuracy: 0.9204\b\b\b\b\b\b\b\b\b\b\b\b\b\b\b\b\b\b\b\b\b\b\b\b\b\b\b\b\b\b\b\b\b\b\b\b\b\b\n",
            "Epoch 14/25\n",
            "469/469 [==============================] - 3s 6ms/step - loss: 0.3142 - rounded_accuracy: 0.9208 - val_loss: 0.3117 - val_rounded_accuracy: 0.9237\b\b\b\b\b\b\b\b\b\b\b\b\b\b\b\b\b\b\b\b\b\b\b\b\b\b\b\b\b\b\b\b\b\b\b\b\b\b\n",
            "Epoch 15/25\n",
            "469/469 [==============================] - 3s 6ms/step - loss: 0.3137 - rounded_accuracy: 0.9212 - val_loss: 0.3154 - val_rounded_accuracy: 0.9217\b\b\b\b\b\b\b\b\b\b\b\b\b\b\b\b\b\b\b\b\b\b\b\b\b\b\b\b\b\b\b\b\b\b\b\b\b\b\n",
            "Epoch 16/25\n",
            "469/469 [==============================] - 3s 6ms/step - loss: 0.3134 - rounded_accuracy: 0.9214 - val_loss: 0.3107 - val_rounded_accuracy: 0.9242\b\b\b\b\b\b\b\b\b\b\b\b\b\b\b\b\b\b\b\b\b\b\b\b\b\b\b\b\b\b\b\b\b\b\b\b\b\b\n",
            "Epoch 17/25\n",
            "469/469 [==============================] - 3s 6ms/step - loss: 0.3131 - rounded_accuracy: 0.9217 - val_loss: 0.3123 - val_rounded_accuracy: 0.9226\b\b\b\b\b\b\b\b\b\b\b\b\b\b\b\b\b\b\b\b\b\b\b\b\b\b\b\b\b\b\b\b\b\b\b\b\b\b\n",
            "Epoch 18/25\n",
            "469/469 [==============================] - 3s 6ms/step - loss: 0.3128 - rounded_accuracy: 0.9218 - val_loss: 0.3137 - val_rounded_accuracy: 0.9228\b\b\b\b\b\b\b\b\b\b\b\b\b\b\b\b\b\b\b\b\b\b\b\b\b\b\b\b\b\b\b\b\b\b\b\b\b\b\n",
            "Epoch 19/25\n",
            "469/469 [==============================] - 3s 6ms/step - loss: 0.3125 - rounded_accuracy: 0.9221 - val_loss: 0.3123 - val_rounded_accuracy: 0.9231\b\b\b\b\b\b\b\b\b\b\b\b\b\b\b\b\b\b\b\b\b\b\b\b\b\b\b\b\b\b\b\b\b\b\b\b\b\b\n",
            "Epoch 20/25\n",
            "469/469 [==============================] - 3s 6ms/step - loss: 0.3123 - rounded_accuracy: 0.9223 - val_loss: 0.3137 - val_rounded_accuracy: 0.9196\b\b\b\b\b\b\b\b\b\b\b\b\b\b\b\b\b\b\b\b\b\b\b\b\b\b\b\b\b\b\b\b\b\b\b\b\b\b\n",
            "Epoch 21/25\n",
            "469/469 [==============================] - 3s 6ms/step - loss: 0.3121 - rounded_accuracy: 0.9225 - val_loss: 0.3117 - val_rounded_accuracy: 0.9214\b\b\b\b\b\b\b\b\b\b\b\b\b\b\b\b\b\b\b\b\b\b\b\b\b\b\b\b\b\b\b\b\b\b\b\b\b\b\n",
            "Epoch 22/25\n",
            "469/469 [==============================] - 3s 6ms/step - loss: 0.3120 - rounded_accuracy: 0.9227 - val_loss: 0.3115 - val_rounded_accuracy: 0.9239\b\b\b\b\b\b\b\b\b\b\b\b\b\b\b\b\b\b\b\b\b\b\b\b\b\b\b\b\b\b\b\b\b\b\b\b\b\b\n",
            "Epoch 23/25\n",
            "469/469 [==============================] - 3s 6ms/step - loss: 0.3117 - rounded_accuracy: 0.9228 - val_loss: 0.3102 - val_rounded_accuracy: 0.9240\b\b\b\b\b\b\b\b\b\b\b\b\b\b\b\b\b\b\b\b\b\b\b\b\b\b\b\b\b\b\b\b\b\b\b\b\b\b\n",
            "Epoch 24/25\n",
            "469/469 [==============================] - 3s 6ms/step - loss: 0.3116 - rounded_accuracy: 0.9229 - val_loss: 0.3118 - val_rounded_accuracy: 0.9200\b\b\b\b\b\b\b\b\b\b\b\b\b\b\b\b\b\b\b\b\b\b\b\b\b\b\b\b\b\b\b\b\b\b\b\b\b\b\n",
            "Epoch 25/25\n",
            "469/469 [==============================] - 3s 6ms/step - loss: 0.3114 - rounded_accuracy: 0.9231 - val_loss: 0.3103 - val_rounded_accuracy: 0.9253\b\b\b\b\b\b\b\b\b\b\b\b\b\b\b\b\b\b\b\b\b\b\b\b\b\b\b\b\b\b\b\b\b\b\b\b\b\b\n"
          ]
        }
      ],
      "execution_count": 9,
      "metadata": {
        "execution": {
          "iopub.status.busy": "2020-10-27T19:46:40.997Z",
          "iopub.execute_input": "2020-10-27T19:46:41.003Z",
          "iopub.status.idle": "2020-10-27T19:47:55.251Z",
          "shell.execute_reply": "2020-10-27T19:47:55.271Z"
        }
      }
    },
    {
      "cell_type": "markdown",
      "source": [
        "## Generate Sample"
      ],
      "metadata": {
        "nteract": {
          "transient": {
            "deleting": false
          }
        }
      }
    },
    {
      "cell_type": "code",
      "source": [
        "codings = tf.random.normal(shape=[1, codings_size])\n",
        "images = decoder(codings).numpy()\n",
        "plt.imshow(images[0,:,:], cmap=\"binary\")\n",
        "plt.show()"
      ],
      "outputs": [
        {
          "output_type": "display_data",
          "data": {
            "text/plain": "<Figure size 432x288 with 1 Axes>",
            "image/png": "[encoded data removed]"
          },
          "metadata": {
            "needs_background": "light"
          }
        }
      ],
      "execution_count": 10,
      "metadata": {
        "execution": {
          "iopub.status.busy": "2020-10-27T19:47:55.260Z",
          "iopub.execute_input": "2020-10-27T19:47:55.265Z",
          "iopub.status.idle": "2020-10-27T19:47:55.754Z",
          "shell.execute_reply": "2020-10-27T19:47:55.764Z"
        }
      }
    },
    {
      "cell_type": "code",
      "source": [],
      "outputs": [],
      "execution_count": null,
      "metadata": {}
    },
    {
      "cell_type": "code",
      "source": [],
      "outputs": [],
      "execution_count": null,
      "metadata": {}
    },
    {
      "cell_type": "code",
      "source": [],
      "outputs": [],
      "execution_count": null,
      "metadata": {}
    }
  ],
  "metadata": {
    "kernelspec": {
      "display_name": "Python 3",
      "language": "python",
      "name": "python3"
    },
    "language_info": {
      "name": "python",
      "version": "3.7.3",
      "mimetype": "text/x-python",
      "codemirror_mode": {
        "name": "ipython",
        "version": 3
      },
      "pygments_lexer": "ipython3",
      "nbconvert_exporter": "python",
      "file_extension": ".py"
    },
    "nteract": {
      "version": "0.26.0"
    }
  },
  "nbformat": 4,
  "nbformat_minor": 2
}