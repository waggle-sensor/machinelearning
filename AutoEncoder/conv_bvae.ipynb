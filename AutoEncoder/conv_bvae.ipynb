{
 "cells": [
  {
   "cell_type": "markdown",
   "metadata": {},
   "source": [
    "# Conv VAE Fmnist"
   ]
  },
  {
   "cell_type": "code",
   "execution_count": 1,
   "metadata": {},
   "outputs": [],
   "source": [
    "import os \n",
    "import glob as glob\n",
    "\n",
    "import pandas as pd\n",
    "import numpy as np\n",
    "import tensorflow as tf\n",
    "from tensorflow import keras\n",
    "from tensorflow.keras import layers\n",
    "from tensorflow.keras import Model\n",
    "\n",
    "from PIL import Image\n",
    "import matplotlib.pyplot as plt\n",
    "import matplotlib.image as mpimg"
   ]
  },
  {
   "cell_type": "markdown",
   "metadata": {},
   "source": [
    "Download Fmnist from: https://www.kaggle.com/zalando-research/fashionmnist"
   ]
  },
  {
   "cell_type": "code",
   "execution_count": 2,
   "metadata": {},
   "outputs": [],
   "source": [
    "X_train = pd.read_csv(\"F_mnist/train.csv\")\n",
    "X_test = pd.read_csv(\"F_mnist/test.csv\")"
   ]
  },
  {
   "cell_type": "code",
   "execution_count": 3,
   "metadata": {},
   "outputs": [],
   "source": [
    "X_train = X_train.iloc[:,2:].values\n",
    "X_valid = X_test.iloc[:,1:].values\n",
    "\n",
    "X_train, X_valid = X_train/255, X_valid/255"
   ]
  },
  {
   "cell_type": "code",
   "execution_count": 4,
   "metadata": {},
   "outputs": [],
   "source": [
    "X_train = X_train.reshape(X_train.shape[0],28,28,1)\n",
    "X_valid = X_valid.reshape(X_valid.shape[0],28,28,1)"
   ]
  },
  {
   "cell_type": "code",
   "execution_count": 5,
   "metadata": {},
   "outputs": [
    {
     "data": {
      "text/plain": [
       "(10000, 28, 28, 1)"
      ]
     },
     "execution_count": 5,
     "metadata": {},
     "output_type": "execute_result"
    }
   ],
   "source": [
    "X_valid.shape"
   ]
  },
  {
   "cell_type": "code",
   "execution_count": 6,
   "metadata": {},
   "outputs": [
    {
     "data": {
      "image/png": "[encoded data removed]",
      "text/plain": [
       "<Figure size 432x288 with 1 Axes>"
      ]
     },
     "metadata": {
      "needs_background": "light"
     },
     "output_type": "display_data"
    }
   ],
   "source": [
    "plt.imshow(X_train[6,:,:,0], cmap=\"gray\")\n",
    "plt.show()"
   ]
  },
  {
   "cell_type": "markdown",
   "metadata": {},
   "source": [
    "## Model"
   ]
  },
  {
   "cell_type": "markdown",
   "metadata": {},
   "source": [
    "$$\n",
    "E_{z \\sim Q}[\\log P(X|z)]  - D[Q(z|X)||P(z)]\n",
    "$$\n",
    "\n",
    "* z is latent variable\n",
    "* P(X|z) says given z what is the prob the reconstruction is like real data\n",
    "* D[Q(z|X)||P(z)] measure similarity between generated latent and real latent"
   ]
  },
  {
   "cell_type": "code",
   "execution_count": 7,
   "metadata": {},
   "outputs": [],
   "source": [
    "class Sampling(layers.Layer):\n",
    "    \"\"\"Uses (z_mean, z_log_var) to sample z, the vector encoding a digit.\"\"\"\n",
    "\n",
    "    def call(self, inputs):\n",
    "        z_mean, z_log_var = inputs\n",
    "        batch = tf.shape(z_mean)[0]\n",
    "        dim = tf.shape(z_mean)[1]\n",
    "        epsilon = tf.keras.backend.random_normal(shape=(batch, dim))\n",
    "        return z_mean + tf.exp(0.5 * z_log_var) * epsilon"
   ]
  },
  {
   "cell_type": "code",
   "execution_count": 8,
   "metadata": {},
   "outputs": [
    {
     "name": "stdout",
     "output_type": "stream",
     "text": [
      "Model: \"encoder\"\n",
      "__________________________________________________________________________________________________\n",
      "Layer (type)                    Output Shape         Param #     Connected to                     \n",
      "==================================================================================================\n",
      "input_1 (InputLayer)            [(None, 28, 28, 1)]  0                                            \n",
      "__________________________________________________________________________________________________\n",
      "separable_conv2d (SeparableConv (None, 14, 14, 32)   73          input_1[0][0]                    \n",
      "__________________________________________________________________________________________________\n",
      "separable_conv2d_1 (SeparableCo (None, 7, 7, 64)     2400        separable_conv2d[0][0]           \n",
      "__________________________________________________________________________________________________\n",
      "flatten (Flatten)               (None, 3136)         0           separable_conv2d_1[0][0]         \n",
      "__________________________________________________________________________________________________\n",
      "dense (Dense)                   (None, 16)           50192       flatten[0][0]                    \n",
      "__________________________________________________________________________________________________\n",
      "z_mean (Dense)                  (None, 2)            34          dense[0][0]                      \n",
      "__________________________________________________________________________________________________\n",
      "z_log_var (Dense)               (None, 2)            34          dense[0][0]                      \n",
      "__________________________________________________________________________________________________\n",
      "sampling (Sampling)             (None, 2)            0           z_mean[0][0]                     \n",
      "                                                                 z_log_var[0][0]                  \n",
      "==================================================================================================\n",
      "Total params: 52,733\n",
      "Trainable params: 52,733\n",
      "Non-trainable params: 0\n",
      "__________________________________________________________________________________________________\n"
     ]
    }
   ],
   "source": [
    "\"\"\"\n",
    "latent_dim = 2\n",
    "\n",
    "encoder_inputs = keras.Input(shape=(28, 28, 1))\n",
    "x = layers.Conv2D(32, 3, activation=\"relu\", strides=2, padding=\"same\")(encoder_inputs)\n",
    "x = layers.Conv2D(64, 3, activation=\"relu\", strides=2, padding=\"same\")(x)\n",
    "x = layers.Flatten()(x)\n",
    "x = layers.Dense(16, activation=\"relu\")(x)\n",
    "z_mean = layers.Dense(latent_dim, name=\"z_mean\")(x)\n",
    "z_log_var = layers.Dense(latent_dim, name=\"z_log_var\")(x)\n",
    "z = Sampling()([z_mean, z_log_var])\n",
    "encoder = keras.Model(encoder_inputs, [z_mean, z_log_var, z], name=\"encoder\")\n",
    "encoder.summary()\n",
    "\"\"\"\n",
    "\n",
    "latent_dim = 2\n",
    "\n",
    "encoder_inputs = keras.Input(shape=(28, 28, 1))\n",
    "x = layers.SeparableConv2D(32, 3, activation=\"relu\", strides=2, padding=\"same\")(encoder_inputs)\n",
    "x = layers.SeparableConv2D(64, 3, activation=\"relu\", strides=2, padding=\"same\")(x)\n",
    "x = layers.Flatten()(x)\n",
    "x = layers.Dense(16, activation=\"relu\")(x)\n",
    "z_mean = layers.Dense(latent_dim, name=\"z_mean\")(x)\n",
    "z_log_var = layers.Dense(latent_dim, name=\"z_log_var\")(x)\n",
    "z = Sampling()([z_mean, z_log_var])\n",
    "encoder = keras.Model(encoder_inputs, [z_mean, z_log_var, z], name=\"encoder\")\n",
    "encoder.summary()"
   ]
  },
  {
   "cell_type": "code",
   "execution_count": 9,
   "metadata": {},
   "outputs": [
    {
     "name": "stdout",
     "output_type": "stream",
     "text": [
      "Model: \"decoder\"\n",
      "_________________________________________________________________\n",
      "Layer (type)                 Output Shape              Param #   \n",
      "=================================================================\n",
      "input_2 (InputLayer)         [(None, 2)]               0         \n",
      "_________________________________________________________________\n",
      "dense_1 (Dense)              (None, 3136)              9408      \n",
      "_________________________________________________________________\n",
      "reshape (Reshape)            (None, 7, 7, 64)          0         \n",
      "_________________________________________________________________\n",
      "conv2d_transpose (Conv2DTran (None, 14, 14, 64)        36928     \n",
      "_________________________________________________________________\n",
      "conv2d_transpose_1 (Conv2DTr (None, 28, 28, 32)        18464     \n",
      "_________________________________________________________________\n",
      "conv2d_transpose_2 (Conv2DTr (None, 28, 28, 1)         289       \n",
      "=================================================================\n",
      "Total params: 65,089\n",
      "Trainable params: 65,089\n",
      "Non-trainable params: 0\n",
      "_________________________________________________________________\n"
     ]
    }
   ],
   "source": [
    "latent_inputs = keras.Input(shape=(latent_dim,))\n",
    "x = layers.Dense(7 * 7 * 64, activation=\"relu\")(latent_inputs)\n",
    "x = layers.Reshape((7, 7, 64))(x)\n",
    "x = layers.Conv2DTranspose(64, 3, activation=\"relu\", strides=2, padding=\"same\")(x)\n",
    "x = layers.Conv2DTranspose(32, 3, activation=\"relu\", strides=2, padding=\"same\")(x)\n",
    "decoder_outputs = layers.Conv2DTranspose(1, 3, activation=\"sigmoid\", padding=\"same\")(x)\n",
    "decoder = keras.Model(latent_inputs, decoder_outputs, name=\"decoder\")\n",
    "decoder.summary()"
   ]
  },
  {
   "cell_type": "code",
   "execution_count": 10,
   "metadata": {},
   "outputs": [],
   "source": [
    "# https://keras.io/guides/customizing_what_happens_in_fit/\n",
    "# https://www.youtube.com/watch?v=h0UE8FzdE8U\n",
    "\n",
    "class VAE(keras.Model):\n",
    "    def __init__(self, encoder, decoder,n_pixels,Beta=1, **kwargs):\n",
    "        super(VAE, self).__init__(**kwargs)\n",
    "        self.encoder = encoder\n",
    "        self.decoder = decoder\n",
    "        self.n_pixels = n_pixels\n",
    "        self.Beta = Beta\n",
    "\n",
    "    def train_step(self, data):\n",
    "        if isinstance(data, tuple):\n",
    "            data = data[0]\n",
    "        with tf.GradientTape() as tape:\n",
    "            z_mean, z_log_var, z = encoder(data)\n",
    "            reconstruction = decoder(z)\n",
    "            reconstruction_loss = tf.reduce_mean(\n",
    "                keras.losses.binary_crossentropy(data, reconstruction)\n",
    "            )\n",
    "            reconstruction_loss *= self.n_pixels\n",
    "            kl_loss = 1 + z_log_var - tf.square(z_mean) - tf.exp(z_log_var)\n",
    "            kl_loss = tf.reduce_mean(kl_loss)\n",
    "            kl_loss *= -0.5\n",
    "            total_loss = reconstruction_loss + kl_loss*self.Beta\n",
    "        grads = tape.gradient(total_loss, self.trainable_weights)\n",
    "        self.optimizer.apply_gradients(zip(grads, self.trainable_weights))\n",
    "        return {\n",
    "            \"loss\": total_loss,\n",
    "            \"reconstruction_loss\": reconstruction_loss,\n",
    "            \"kl_loss\": kl_loss,\n",
    "        }\n",
    "    \n",
    "    def test_step(self, data):\n",
    "        if isinstance(data, tuple):\n",
    "            data = data[0]\n",
    "        z_mean, z_log_var, z = encoder(data)\n",
    "        reconstruction = decoder(z)\n",
    "        reconstruction_loss = tf.reduce_mean(\n",
    "            keras.losses.binary_crossentropy(data, reconstruction)\n",
    "        )\n",
    "        reconstruction_loss *= self.n_pixels\n",
    "        kl_loss = 1 + z_log_var - tf.square(z_mean) - tf.exp(z_log_var)\n",
    "        kl_loss = tf.reduce_mean(kl_loss)\n",
    "        kl_loss *= -0.5\n",
    "        total_loss = reconstruction_loss + kl_loss*self.Beta\n",
    "        return {\n",
    "          \"loss\": total_loss,\n",
    "          \"reconstruction_loss\": reconstruction_loss,\n",
    "          \"kl_loss\": kl_loss,\n",
    "        }    "
   ]
  },
  {
   "cell_type": "code",
   "execution_count": 11,
   "metadata": {},
   "outputs": [
    {
     "name": "stdout",
     "output_type": "stream",
     "text": [
      "Epoch 1/30\n",
      "469/469 [==============================] - 47s 100ms/step - loss: 350.6945 - reconstruction_loss: 346.2111 - kl_loss: 4.4834 - val_loss: 352.2541 - val_reconstruction_loss: 347.8561 - val_kl_loss: 4.3979\n",
      "Epoch 2/30\n",
      "469/469 [==============================] - 48s 103ms/step - loss: 296.5676 - reconstruction_loss: 290.8024 - kl_loss: 5.7652 - val_loss: 311.2231 - val_reconstruction_loss: 305.9604 - val_kl_loss: 5.2628\n",
      "Epoch 3/30\n",
      "469/469 [==============================] - 47s 100ms/step - loss: 275.8469 - reconstruction_loss: 270.9225 - kl_loss: 4.9244 - val_loss: 305.7723 - val_reconstruction_loss: 301.0764 - val_kl_loss: 4.6959\n",
      "Epoch 4/30\n",
      "469/469 [==============================] - 47s 99ms/step - loss: 271.8163 - reconstruction_loss: 267.2224 - kl_loss: 4.5938 - val_loss: 304.0754 - val_reconstruction_loss: 299.5120 - val_kl_loss: 4.5634\n",
      "Epoch 5/30\n",
      "469/469 [==============================] - 51s 108ms/step - loss: 269.6684 - reconstruction_loss: 265.2128 - kl_loss: 4.4556 - val_loss: 304.5734 - val_reconstruction_loss: 300.1537 - val_kl_loss: 4.4196\n",
      "Epoch 6/30\n",
      "469/469 [==============================] - 50s 108ms/step - loss: 268.4393 - reconstruction_loss: 264.0558 - kl_loss: 4.3836 - val_loss: 301.9165 - val_reconstruction_loss: 297.4272 - val_kl_loss: 4.4893\n",
      "Epoch 7/30\n",
      "469/469 [==============================] - 43s 92ms/step - loss: 267.5223 - reconstruction_loss: 263.1848 - kl_loss: 4.3375 - val_loss: 301.2874 - val_reconstruction_loss: 296.7625 - val_kl_loss: 4.5249\n",
      "Epoch 8/30\n",
      "469/469 [==============================] - 40s 86ms/step - loss: 266.6644 - reconstruction_loss: 262.3433 - kl_loss: 4.3212 - val_loss: 303.0075 - val_reconstruction_loss: 298.5366 - val_kl_loss: 4.4709\n",
      "Epoch 9/30\n",
      "469/469 [==============================] - 37s 79ms/step - loss: 266.0287 - reconstruction_loss: 261.7462 - kl_loss: 4.2824 - val_loss: 300.5314 - val_reconstruction_loss: 296.1964 - val_kl_loss: 4.3350\n",
      "Epoch 10/30\n",
      "469/469 [==============================] - 37s 79ms/step - loss: 265.4011 - reconstruction_loss: 261.1499 - kl_loss: 4.2512 - val_loss: 299.4536 - val_reconstruction_loss: 295.0402 - val_kl_loss: 4.4135\n",
      "Epoch 11/30\n",
      "469/469 [==============================] - 37s 80ms/step - loss: 264.8814 - reconstruction_loss: 260.6559 - kl_loss: 4.2255 - val_loss: 299.9790 - val_reconstruction_loss: 295.6746 - val_kl_loss: 4.3043\n",
      "Epoch 12/30\n",
      "469/469 [==============================] - 38s 80ms/step - loss: 264.5358 - reconstruction_loss: 260.3276 - kl_loss: 4.2082 - val_loss: 298.7766 - val_reconstruction_loss: 294.4748 - val_kl_loss: 4.3018\n",
      "Epoch 13/30\n",
      "469/469 [==============================] - 38s 80ms/step - loss: 264.1455 - reconstruction_loss: 259.9682 - kl_loss: 4.1773 - val_loss: 299.5110 - val_reconstruction_loss: 295.1990 - val_kl_loss: 4.3119\n",
      "Epoch 14/30\n",
      "469/469 [==============================] - 38s 81ms/step - loss: 263.7172 - reconstruction_loss: 259.5564 - kl_loss: 4.1608 - val_loss: 297.7875 - val_reconstruction_loss: 293.4863 - val_kl_loss: 4.3012\n",
      "Epoch 15/30\n",
      "469/469 [==============================] - 38s 80ms/step - loss: 263.5260 - reconstruction_loss: 259.3954 - kl_loss: 4.1307 - val_loss: 298.7624 - val_reconstruction_loss: 294.6262 - val_kl_loss: 4.1362\n",
      "Epoch 16/30\n",
      "469/469 [==============================] - 37s 80ms/step - loss: 263.1141 - reconstruction_loss: 259.0077 - kl_loss: 4.1065 - val_loss: 297.1888 - val_reconstruction_loss: 292.9672 - val_kl_loss: 4.2216\n",
      "Epoch 17/30\n",
      "469/469 [==============================] - 38s 81ms/step - loss: 262.8854 - reconstruction_loss: 258.7937 - kl_loss: 4.0917 - val_loss: 298.6173 - val_reconstruction_loss: 294.5071 - val_kl_loss: 4.1103\n",
      "Epoch 18/30\n",
      "469/469 [==============================] - 38s 81ms/step - loss: 262.5004 - reconstruction_loss: 258.4361 - kl_loss: 4.0643 - val_loss: 298.8260 - val_reconstruction_loss: 294.7304 - val_kl_loss: 4.0956\n",
      "Epoch 19/30\n",
      "469/469 [==============================] - 38s 81ms/step - loss: 262.2566 - reconstruction_loss: 258.2262 - kl_loss: 4.0304 - val_loss: 297.5172 - val_reconstruction_loss: 293.4055 - val_kl_loss: 4.1118\n",
      "Epoch 20/30\n",
      "469/469 [==============================] - 37s 80ms/step - loss: 262.0853 - reconstruction_loss: 258.0603 - kl_loss: 4.0250 - val_loss: 298.2062 - val_reconstruction_loss: 294.1697 - val_kl_loss: 4.0365\n",
      "Epoch 21/30\n",
      "469/469 [==============================] - 38s 81ms/step - loss: 261.8646 - reconstruction_loss: 257.8566 - kl_loss: 4.0080 - val_loss: 297.9671 - val_reconstruction_loss: 293.9375 - val_kl_loss: 4.0296\n",
      "Epoch 22/30\n",
      "469/469 [==============================] - 38s 80ms/step - loss: 261.5635 - reconstruction_loss: 257.5840 - kl_loss: 3.9795 - val_loss: 296.7001 - val_reconstruction_loss: 292.6663 - val_kl_loss: 4.0338\n",
      "Epoch 23/30\n",
      "469/469 [==============================] - 41s 88ms/step - loss: 261.3737 - reconstruction_loss: 257.4050 - kl_loss: 3.9686 - val_loss: 297.4638 - val_reconstruction_loss: 293.4524 - val_kl_loss: 4.0114\n",
      "Epoch 24/30\n",
      "469/469 [==============================] - 41s 88ms/step - loss: 261.1388 - reconstruction_loss: 257.1959 - kl_loss: 3.9429 - val_loss: 297.8244 - val_reconstruction_loss: 293.7827 - val_kl_loss: 4.0418\n",
      "Epoch 25/30\n",
      "469/469 [==============================] - 38s 81ms/step - loss: 261.0680 - reconstruction_loss: 257.1444 - kl_loss: 3.9237 - val_loss: 295.9726 - val_reconstruction_loss: 292.0621 - val_kl_loss: 3.9105\n",
      "Epoch 26/30\n",
      "469/469 [==============================] - 35s 75ms/step - loss: 260.8147 - reconstruction_loss: 256.9042 - kl_loss: 3.9105 - val_loss: 295.1945 - val_reconstruction_loss: 291.2366 - val_kl_loss: 3.9579\n",
      "Epoch 27/30\n",
      "469/469 [==============================] - 37s 79ms/step - loss: 260.6458 - reconstruction_loss: 256.7542 - kl_loss: 3.8916 - val_loss: 295.4271 - val_reconstruction_loss: 291.5069 - val_kl_loss: 3.9202\n",
      "Epoch 28/30\n",
      "469/469 [==============================] - 38s 82ms/step - loss: 260.4202 - reconstruction_loss: 256.5499 - kl_loss: 3.8703 - val_loss: 295.2720 - val_reconstruction_loss: 291.4048 - val_kl_loss: 3.8671\n",
      "Epoch 29/30\n",
      "469/469 [==============================] - 37s 80ms/step - loss: 260.2770 - reconstruction_loss: 256.4109 - kl_loss: 3.8661 - val_loss: 295.1039 - val_reconstruction_loss: 291.2479 - val_kl_loss: 3.8560\n",
      "Epoch 30/30\n",
      "469/469 [==============================] - 38s 82ms/step - loss: 260.1610 - reconstruction_loss: 256.3191 - kl_loss: 3.8419 - val_loss: 294.8933 - val_reconstruction_loss: 291.0969 - val_kl_loss: 3.7964\n"
     ]
    },
    {
     "data": {
      "text/plain": [
       "<tensorflow.python.keras.callbacks.History at 0x7f87142ac320>"
      ]
     },
     "execution_count": 11,
     "metadata": {},
     "output_type": "execute_result"
    }
   ],
   "source": [
    "n_pixels = 28*28*1\n",
    "\n",
    "vae = VAE(encoder, decoder,n_pixels,Beta=1)\n",
    "vae.compile(optimizer=keras.optimizers.Adam())\n",
    "vae.fit(X_train,X_train,validation_data=(X_valid,X_valid), epochs=30, batch_size=128)"
   ]
  },
  {
   "cell_type": "markdown",
   "metadata": {},
   "source": [
    "## Generate Sample"
   ]
  },
  {
   "cell_type": "code",
   "execution_count": 12,
   "metadata": {},
   "outputs": [
    {
     "data": {
      "image/png": "[encoded data removed]",
      "text/plain": [
       "<Figure size 432x288 with 1 Axes>"
      ]
     },
     "metadata": {
      "needs_background": "light"
     },
     "output_type": "display_data"
    }
   ],
   "source": [
    "codings = tf.random.normal(shape=[1, latent_dim])\n",
    "images = decoder(codings).numpy()\n",
    "plt.imshow(images[0,:,:,0], cmap=\"gray\")\n",
    "plt.show()"
   ]
  },
  {
   "cell_type": "code",
   "execution_count": 13,
   "metadata": {},
   "outputs": [
    {
     "data": {
      "image/png": "[encoded data removed]",
      "text/plain": [
       "<Figure size 432x288 with 1 Axes>"
      ]
     },
     "metadata": {
      "needs_background": "light"
     },
     "output_type": "display_data"
    }
   ],
   "source": [
    "codings = tf.random.normal(shape=[1, latent_dim])\n",
    "images = decoder(codings).numpy()\n",
    "plt.imshow(images[0,:,:,0], cmap=\"gray\")\n",
    "plt.show()"
   ]
  },
  {
   "cell_type": "code",
   "execution_count": 27,
   "metadata": {},
   "outputs": [
    {
     "data": {
      "image/png": "[encoded data removed]",
      "text/plain": [
       "<Figure size 432x288 with 1 Axes>"
      ]
     },
     "metadata": {
      "needs_background": "light"
     },
     "output_type": "display_data"
    }
   ],
   "source": [
    "codings = tf.random.normal(shape=[1, latent_dim])\n",
    "images = decoder(codings).numpy()\n",
    "plt.imshow(images[0,:,:,0], cmap=\"gray\")\n",
    "plt.show()"
   ]
  },
  {
   "cell_type": "code",
   "execution_count": 26,
   "metadata": {},
   "outputs": [
    {
     "data": {
      "image/png": "[encoded data removed]",
      "text/plain": [
       "<Figure size 432x288 with 1 Axes>"
      ]
     },
     "metadata": {
      "needs_background": "light"
     },
     "output_type": "display_data"
    }
   ],
   "source": [
    "codings = tf.random.normal(shape=[1, latent_dim])\n",
    "images = decoder(codings).numpy()\n",
    "plt.imshow(images[0,:,:,0], cmap=\"gray\")\n",
    "plt.show()"
   ]
  },
  {
   "cell_type": "code",
   "execution_count": 36,
   "metadata": {},
   "outputs": [
    {
     "data": {
      "image/png": "[encoded data removed]",
      "text/plain": [
       "<Figure size 432x288 with 1 Axes>"
      ]
     },
     "metadata": {
      "needs_background": "light"
     },
     "output_type": "display_data"
    }
   ],
   "source": [
    "codings = tf.random.normal(shape=[1, latent_dim])\n",
    "images = decoder(codings).numpy()\n",
    "plt.imshow(images[0,:,:,0], cmap=\"gray\")\n",
    "plt.show()"
   ]
  },
  {
   "cell_type": "code",
   "execution_count": null,
   "metadata": {},
   "outputs": [],
   "source": []
  },
  {
   "cell_type": "code",
   "execution_count": null,
   "metadata": {},
   "outputs": [],
   "source": []
  }
 ],
 "metadata": {
  "kernelspec": {
   "display_name": "Python 3",
   "language": "python",
   "name": "python3"
  },
  "language_info": {
   "codemirror_mode": {
    "name": "ipython",
    "version": 3
   },
   "file_extension": ".py",
   "mimetype": "text/x-python",
   "name": "python",
   "nbconvert_exporter": "python",
   "pygments_lexer": "ipython3",
   "version": "3.7.3"
  }
 },
 "nbformat": 4,
 "nbformat_minor": 2
}
