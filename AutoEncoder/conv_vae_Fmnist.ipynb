{
  "cells": [
    {
      "cell_type": "markdown",
      "source": [
        "# Conv Vae Fmnist"
      ],
      "metadata": {}
    },
    {
      "cell_type": "code",
      "source": [
        "import os \n",
        "import glob as glob\n",
        "import random\n",
        "import time\n",
        "\n",
        "import pandas as pd\n",
        "import numpy as np\n",
        "import tensorflow as tf\n",
        "from tensorflow import keras\n",
        "from tensorflow.keras import layers\n",
        "from tensorflow.keras import backend as K\n",
        "from tensorflow.keras import Model\n",
        "from tensorflow.keras.layers import *\n",
        "from tensorflow.keras import Sequential\n",
        "from tensorflow.keras import regularizers\n",
        "from typeguard import typechecked\n",
        "\n",
        "from PIL import Image\n",
        "import matplotlib.pyplot as plt\n",
        "import matplotlib.image as mpimg"
      ],
      "outputs": [],
      "execution_count": 1,
      "metadata": {}
    },
    {
      "cell_type": "markdown",
      "source": [
        "Download F_mnist data set from: https://www.kaggle.com/zalando-research/fashionmnist"
      ],
      "metadata": {
        "nteract": {
          "transient": {
            "deleting": false
          }
        }
      }
    },
    {
      "cell_type": "code",
      "source": [
        "X_train = pd.read_csv(\"F_mnist/train.csv\")\n",
        "X_test = pd.read_csv(\"F_mnist/test.csv\")"
      ],
      "outputs": [],
      "execution_count": 2,
      "metadata": {}
    },
    {
      "cell_type": "code",
      "source": [
        "X_train = X_train.iloc[:,2:].values\n",
        "X_valid = X_test.iloc[:,1:].values\n",
        "\n",
        "X_train, X_valid = X_train/255, X_valid/255"
      ],
      "outputs": [],
      "execution_count": 3,
      "metadata": {}
    },
    {
      "cell_type": "code",
      "source": [
        "X_train = X_train.reshape(X_train.shape[0],28,28)\n",
        "X_valid = X_valid.reshape(X_valid.shape[0],28,28)"
      ],
      "outputs": [],
      "execution_count": 4,
      "metadata": {}
    },
    {
      "cell_type": "code",
      "source": [
        "plt.imshow(X_train[6,:,:], cmap=\"gray\")\n",
        "plt.show()"
      ],
      "outputs": [
        {
          "output_type": "display_data",
          "data": {
            "image/png": "[encoded data removed]",
            "text/plain": "<Figure size 432x288 with 1 Axes>"
          },
          "metadata": {
            "needs_background": "light"
          }
        }
      ],
      "execution_count": 22,
      "metadata": {}
    },
    {
      "cell_type": "markdown",
      "source": [
        "## Custom Model with fit()"
      ],
      "metadata": {
        "nteract": {
          "transient": {
            "deleting": false
          }
        }
      }
    },
    {
      "cell_type": "code",
      "source": [
        "class Sampling(layers.Layer):\n",
        "    def call(self, inputs):\n",
        "        mean, log_var = inputs\n",
        "        return tf.random.normal(tf.shape(log_var)) * tf.math.exp(log_var / 2) + mean\n",
        "    \n",
        "def rounded_accuracy(y_true, y_pred):\n",
        "    return keras.metrics.binary_accuracy(tf.round(y_true), tf.round(y_pred))    "
      ],
      "outputs": [],
      "execution_count": 6,
      "metadata": {}
    },
    {
      "cell_type": "code",
      "source": [
        "class SpectralNormalization(tf.keras.layers.Wrapper):\n",
        "    \"\"\"Performs spectral normalization on weights.\n",
        "    This wrapper controls the Lipschitz constant of the layer by\n",
        "    constraining its spectral norm, which can stabilize the training of GANs.\n",
        "    See [Spectral Normalization for Generative Adversarial Networks](https://arxiv.org/abs/1802.05957).\n",
        "    ```python\n",
        "    net = SpectralNormalization(\n",
        "        tf.keras.layers.Conv2D(2, 2, activation=\"relu\"),\n",
        "        input_shape=(32, 32, 3))(x)\n",
        "    net = SpectralNormalization(\n",
        "        tf.keras.layers.Conv2D(16, 5, activation=\"relu\"))(net)\n",
        "    net = SpectralNormalization(\n",
        "        tf.keras.layers.Dense(120, activation=\"relu\"))(net)\n",
        "    net = SpectralNormalization(\n",
        "        tf.keras.layers.Dense(n_classes))(net)\n",
        "    ```\n",
        "    Arguments:\n",
        "      layer: A `tf.keras.layers.Layer` instance that\n",
        "        has either `kernel` or `embeddings` attribute.\n",
        "      power_iterations: `int`, the number of iterations during normalization.\n",
        "    Raises:\n",
        "      AssertionError: If not initialized with a `Layer` instance.\n",
        "      ValueError: If initialized with negative `power_iterations`.\n",
        "      AttributeError: If `layer` does not has `kernel` or `embeddings` attribute.\n",
        "    \"\"\"\n",
        "\n",
        "    @typechecked\n",
        "    def __init__(self, layer: tf.keras.layers, power_iterations: int = 10, **kwargs):\n",
        "        super().__init__(layer, **kwargs)\n",
        "        if power_iterations <= 0:\n",
        "            raise ValueError(\n",
        "                \"`power_iterations` should be greater than zero, got \"\n",
        "                \"`power_iterations={}`\".format(power_iterations)\n",
        "            )\n",
        "        self.power_iterations = power_iterations\n",
        "        self._initialized = False\n",
        "\n",
        "    def build(self, input_shape):\n",
        "        \"\"\"Build `Layer`\"\"\"\n",
        "        super().build(input_shape)\n",
        "        input_shape = tf.TensorShape(input_shape)\n",
        "        self.input_spec = tf.keras.layers.InputSpec(shape=[None] + input_shape[1:])\n",
        "\n",
        "        if hasattr(self.layer, \"kernel\"):\n",
        "            self.w = self.layer.kernel\n",
        "        elif hasattr(self.layer, \"embeddings\"):\n",
        "            self.w = self.layer.embeddings\n",
        "        else:\n",
        "            raise AttributeError(\n",
        "                \"{} object has no attribute 'kernel' nor \"\n",
        "                \"'embeddings'\".format(type(self.layer).__name__)\n",
        "            )\n",
        "\n",
        "        self.w_shape = self.w.shape.as_list()\n",
        "\n",
        "        self.u = self.add_weight(\n",
        "            shape=(1, self.w_shape[-1]),\n",
        "            initializer=tf.initializers.TruncatedNormal(stddev=0.02),\n",
        "            trainable=False,\n",
        "            name=\"sn_u\",\n",
        "            dtype=self.w.dtype,\n",
        "        )\n",
        "\n",
        "    def call(self, inputs, training=None):\n",
        "        \"\"\"Call `Layer`\"\"\"\n",
        "        if training is None:\n",
        "            training = tf.keras.backend.learning_phase()\n",
        "\n",
        "        if training:\n",
        "            self.normalize_weights()\n",
        "\n",
        "        output = self.layer(inputs)\n",
        "        return output\n",
        "\n",
        "    def compute_output_shape(self, input_shape):\n",
        "        return tf.TensorShape(self.layer.compute_output_shape(input_shape).as_list())\n",
        "\n",
        "    @tf.function\n",
        "    def normalize_weights(self):\n",
        "        \"\"\"Generate spectral normalized weights.\n",
        "        This method will update the value of `self.w` with the\n",
        "        spectral normalized value, so that the layer is ready for `call()`.\n",
        "        \"\"\"\n",
        "\n",
        "        w = tf.reshape(self.w, [-1, self.w_shape[-1]])\n",
        "        u = self.u\n",
        "\n",
        "        with tf.name_scope(\"spectral_normalize\"):\n",
        "            for _ in range(self.power_iterations):\n",
        "                v = tf.math.l2_normalize(tf.matmul(u, w, transpose_b=True))\n",
        "                u = tf.math.l2_normalize(tf.matmul(v, w))\n",
        "\n",
        "            sigma = tf.matmul(tf.matmul(v, w), u, transpose_b=True)\n",
        "\n",
        "            self.w.assign(self.w / sigma)\n",
        "            self.u.assign(u)\n",
        "\n",
        "    def get_config(self):\n",
        "        config = {\"power_iterations\": self.power_iterations}\n",
        "        base_config = super().get_config()\n",
        "        return {**base_config, **config}"
      ],
      "outputs": [],
      "execution_count": 7,
      "metadata": {}
    },
    {
      "cell_type": "code",
      "source": [
        "class VAE(Model):\n",
        "    def train_step(self, data):\n",
        "        # Unpack the data. Its structure depends on your model and\n",
        "        # on what you pass to `fit()`.\n",
        "        x, y = data\n",
        "\n",
        "        with tf.GradientTape() as tape:\n",
        "            y_pred = self(x, training=True)  # Forward pass\n",
        "            # Compute the loss value\n",
        "            # (the loss function is configured in `compile()`)\n",
        "            loss = self.compiled_loss(y, y_pred, regularization_losses=self.losses)\n",
        "\n",
        "        # Compute gradients\n",
        "        trainable_vars = self.trainable_variables\n",
        "        gradients = tape.gradient(loss, trainable_vars)\n",
        "        # Update weights\n",
        "        self.optimizer.apply_gradients(zip(gradients, trainable_vars))\n",
        "        # Update metrics (includes the metric that tracks the loss)\n",
        "        self.compiled_metrics.update_state(y, y_pred)\n",
        "        # Return a dict mapping metric names to current value\n",
        "        return {m.name: m.result() for m in self.metrics}"
      ],
      "outputs": [],
      "execution_count": 8,
      "metadata": {}
    },
    {
      "cell_type": "code",
      "source": [
        "codings_size = 20\n",
        "n_pixels = 28*28\n",
        "\n",
        "inputs = keras.layers.Input(shape=[28, 28,1])\n",
        "z = keras.layers.Conv2D(filters=12, kernel_size=3, strides=(2, 2),activation='relu')(inputs)\n",
        "z = keras.layers.Conv2D(filters=6, kernel_size=3, strides=(2, 2),activation='relu')(z)\n",
        "z = keras.layers.Flatten()(z)\n",
        "codings_mean = keras.layers.Dense(codings_size)(z)\n",
        "codings_log_var = keras.layers.Dense(codings_size)(z)\n",
        "codings = Sampling()([codings_mean, codings_log_var])\n",
        "encoder = keras.models.Model(\n",
        "inputs=[inputs], outputs=[codings_mean, codings_log_var, codings])\n",
        "print(encoder.summary())\n",
        "    \n",
        "# Declare decoder\n",
        "decoder_inputs = keras.layers.Input(shape=[codings_size])\n",
        "x = tf.keras.layers.Dense(units=196, activation=tf.nn.relu)(decoder_inputs)\n",
        "x = tf.keras.layers.Reshape(target_shape=(7, 7, 4))(x)\n",
        "x = tf.keras.layers.Conv2DTranspose(filters=6, kernel_size=3, strides=2, padding='same',\n",
        "                    activation='relu')(x)\n",
        "x = tf.keras.layers.Conv2DTranspose(filters=12, kernel_size=3, strides=2, padding='same',\n",
        "                    activation='relu')(x)\n",
        "outputs = SpectralNormalization(tf.keras.layers.Conv2DTranspose(activation='sigmoid',\n",
        "                    filters=1, kernel_size=3, strides=1, padding='same'))(x)\n",
        "decoder = keras.models.Model(inputs=[decoder_inputs], outputs=[outputs])\n",
        "print(decoder.summary())\n",
        "        \n",
        "# Declare VAE\n",
        "_, _, codings = encoder(inputs)\n",
        "reconstructions = decoder(codings)\n",
        "\n",
        "vae = VAE(inputs=[inputs], outputs=[reconstructions])  "
      ],
      "outputs": [
        {
          "output_type": "stream",
          "name": "stdout",
          "text": [
            "Model: \"model\"\n",
            "__________________________________________________________________________________________________\n",
            "Layer (type)                    Output Shape         Param #     Connected to                     \n",
            "==================================================================================================\n",
            "input_1 (InputLayer)            [(None, 28, 28, 1)]  0                                            \n",
            "__________________________________________________________________________________________________\n",
            "conv2d (Conv2D)                 (None, 13, 13, 12)   120         input_1[0][0]                    \n",
            "__________________________________________________________________________________________________\n",
            "conv2d_1 (Conv2D)               (None, 6, 6, 6)      654         conv2d[0][0]                     \n",
            "__________________________________________________________________________________________________\n",
            "flatten (Flatten)               (None, 216)          0           conv2d_1[0][0]                   \n",
            "__________________________________________________________________________________________________\n",
            "dense (Dense)                   (None, 20)           4340        flatten[0][0]                    \n",
            "__________________________________________________________________________________________________\n",
            "dense_1 (Dense)                 (None, 20)           4340        flatten[0][0]                    \n",
            "__________________________________________________________________________________________________\n",
            "sampling (Sampling)             (None, 20)           0           dense[0][0]                      \n",
            "                                                                 dense_1[0][0]                    \n",
            "==================================================================================================\n",
            "Total params: 9,454\n",
            "Trainable params: 9,454\n",
            "Non-trainable params: 0\n",
            "__________________________________________________________________________________________________\n",
            "None\n",
            "Model: \"model_1\"\n",
            "_________________________________________________________________\n",
            "Layer (type)                 Output Shape              Param #   \n",
            "=================================================================\n",
            "input_2 (InputLayer)         [(None, 20)]              0         \n",
            "_________________________________________________________________\n",
            "dense_2 (Dense)              (None, 196)               4116      \n",
            "_________________________________________________________________\n",
            "reshape (Reshape)            (None, 7, 7, 4)           0         \n",
            "_________________________________________________________________\n",
            "conv2d_transpose (Conv2DTran (None, 14, 14, 6)         222       \n",
            "_________________________________________________________________\n",
            "conv2d_transpose_1 (Conv2DTr (None, 28, 28, 12)        660       \n",
            "_________________________________________________________________\n",
            "spectral_normalization (Spec (None, 28, 28, 1)         121       \n",
            "=================================================================\n",
            "Total params: 5,119\n",
            "Trainable params: 5,107\n",
            "Non-trainable params: 12\n",
            "_________________________________________________________________\n",
            "None\n"
          ]
        }
      ],
      "execution_count": 9,
      "metadata": {}
    },
    {
      "cell_type": "markdown",
      "source": [
        "## Train model"
      ],
      "metadata": {
        "nteract": {
          "transient": {
            "deleting": false
          }
        }
      }
    },
    {
      "cell_type": "code",
      "source": [
        "latent_loss = -0.5 * tf.math.reduce_sum(\n",
        "    1 + codings_log_var - tf.math.exp(codings_log_var) - tf.math.square(codings_mean),\n",
        "    axis=-1)\n",
        "\n",
        "vae.add_loss(tf.math.reduce_mean(latent_loss) / n_pixels)\n",
        "vae.compile(loss=\"binary_crossentropy\", optimizer=\"rmsprop\", metrics=[rounded_accuracy])\n",
        "history = vae.fit(X_train, X_train, epochs=25, batch_size=128,\n",
        "                             validation_data=(X_valid, X_valid))"
      ],
      "outputs": [
        {
          "output_type": "stream",
          "name": "stdout",
          "text": [
            "Epoch 1/25\n",
            "469/469 [==============================] - 18s 37ms/step - loss: 0.4386 - rounded_accuracy: 0.8007 - val_loss: 0.3812 - val_rounded_accuracy: 0.8644\n",
            "Epoch 2/25\n",
            "469/469 [==============================] - 19s 40ms/step - loss: 0.3669 - rounded_accuracy: 0.8792 - val_loss: 0.3553 - val_rounded_accuracy: 0.8899\n",
            "Epoch 3/25\n",
            "469/469 [==============================] - 24s 50ms/step - loss: 0.3514 - rounded_accuracy: 0.8923 - val_loss: 0.3450 - val_rounded_accuracy: 0.8978\n",
            "Epoch 4/25\n",
            "469/469 [==============================] - 28s 60ms/step - loss: 0.3435 - rounded_accuracy: 0.8979 - val_loss: 0.3399 - val_rounded_accuracy: 0.9009\n",
            "Epoch 5/25\n",
            "469/469 [==============================] - 27s 58ms/step - loss: 0.3390 - rounded_accuracy: 0.9016 - val_loss: 0.3354 - val_rounded_accuracy: 0.9047\n",
            "Epoch 6/25\n",
            "469/469 [==============================] - 23s 49ms/step - loss: 0.3361 - rounded_accuracy: 0.9040 - val_loss: 0.3348 - val_rounded_accuracy: 0.9051\n",
            "Epoch 7/25\n",
            "469/469 [==============================] - 22s 46ms/step - loss: 0.3341 - rounded_accuracy: 0.9056 - val_loss: 0.3319 - val_rounded_accuracy: 0.9083\n",
            "Epoch 8/25\n",
            "469/469 [==============================] - 21s 45ms/step - loss: 0.3326 - rounded_accuracy: 0.9069 - val_loss: 0.3315 - val_rounded_accuracy: 0.9104\n",
            "Epoch 9/25\n",
            "469/469 [==============================] - 21s 45ms/step - loss: 0.3315 - rounded_accuracy: 0.9079 - val_loss: 0.3307 - val_rounded_accuracy: 0.9070\n",
            "Epoch 10/25\n",
            "469/469 [==============================] - 22s 47ms/step - loss: 0.3306 - rounded_accuracy: 0.9085 - val_loss: 0.3293 - val_rounded_accuracy: 0.9088\n",
            "Epoch 11/25\n",
            "469/469 [==============================] - 21s 44ms/step - loss: 0.3299 - rounded_accuracy: 0.9092 - val_loss: 0.3281 - val_rounded_accuracy: 0.9113\n",
            "Epoch 12/25\n",
            "469/469 [==============================] - 21s 45ms/step - loss: 0.3293 - rounded_accuracy: 0.9098 - val_loss: 0.3282 - val_rounded_accuracy: 0.9110\n",
            "Epoch 13/25\n",
            "469/469 [==============================] - 22s 48ms/step - loss: 0.3288 - rounded_accuracy: 0.9102 - val_loss: 0.3279 - val_rounded_accuracy: 0.9096\n",
            "Epoch 14/25\n",
            "469/469 [==============================] - 21s 45ms/step - loss: 0.3284 - rounded_accuracy: 0.9107 - val_loss: 0.3275 - val_rounded_accuracy: 0.9138\n",
            "Epoch 15/25\n",
            "469/469 [==============================] - 20s 42ms/step - loss: 0.3280 - rounded_accuracy: 0.9111 - val_loss: 0.3278 - val_rounded_accuracy: 0.9089\n",
            "Epoch 16/25\n",
            "469/469 [==============================] - 20s 43ms/step - loss: 0.3276 - rounded_accuracy: 0.9113 - val_loss: 0.3278 - val_rounded_accuracy: 0.9121\n",
            "Epoch 17/25\n",
            "469/469 [==============================] - 19s 41ms/step - loss: 0.3273 - rounded_accuracy: 0.9116 - val_loss: 0.3280 - val_rounded_accuracy: 0.9118\n",
            "Epoch 18/25\n",
            "469/469 [==============================] - 20s 43ms/step - loss: 0.3270 - rounded_accuracy: 0.9118 - val_loss: 0.3255 - val_rounded_accuracy: 0.9135\n",
            "Epoch 19/25\n",
            "469/469 [==============================] - 20s 42ms/step - loss: 0.3267 - rounded_accuracy: 0.9121 - val_loss: 0.3248 - val_rounded_accuracy: 0.9139\n",
            "Epoch 20/25\n",
            "469/469 [==============================] - 20s 43ms/step - loss: 0.3264 - rounded_accuracy: 0.9124 - val_loss: 0.3243 - val_rounded_accuracy: 0.9135\n",
            "Epoch 21/25\n",
            "469/469 [==============================] - 21s 44ms/step - loss: 0.3261 - rounded_accuracy: 0.9126 - val_loss: 0.3254 - val_rounded_accuracy: 0.9157\n",
            "Epoch 22/25\n",
            "469/469 [==============================] - 21s 46ms/step - loss: 0.3260 - rounded_accuracy: 0.9127 - val_loss: 0.3244 - val_rounded_accuracy: 0.9131\n",
            "Epoch 23/25\n",
            "469/469 [==============================] - 21s 45ms/step - loss: 0.3257 - rounded_accuracy: 0.9128 - val_loss: 0.3238 - val_rounded_accuracy: 0.9138\n",
            "Epoch 24/25\n",
            "469/469 [==============================] - 21s 45ms/step - loss: 0.3256 - rounded_accuracy: 0.9132 - val_loss: 0.3236 - val_rounded_accuracy: 0.9144\n",
            "Epoch 25/25\n",
            "469/469 [==============================] - 21s 45ms/step - loss: 0.3253 - rounded_accuracy: 0.9133 - val_loss: 0.3243 - val_rounded_accuracy: 0.9140\n"
          ]
        }
      ],
      "execution_count": 10,
      "metadata": {}
    },
    {
      "cell_type": "markdown",
      "source": [
        "## Generate Sample"
      ],
      "metadata": {
        "nteract": {
          "transient": {
            "deleting": false
          }
        }
      }
    },
    {
      "cell_type": "code",
      "source": [
        "codings = tf.random.normal(shape=[1, codings_size])\n",
        "images = decoder(codings).numpy()\n",
        "plt.imshow(images[0,:,:,0], cmap=\"gray\")\n",
        "plt.show()"
      ],
      "outputs": [
        {
          "output_type": "display_data",
          "data": {
            "image/png": "[encoded data removed]",
            "text/plain": "<Figure size 432x288 with 1 Axes>"
          },
          "metadata": {
            "needs_background": "light"
          }
        }
      ],
      "execution_count": 40,
      "metadata": {}
    },
    {
      "cell_type": "code",
      "source": [
        "images.shape"
      ],
      "outputs": [
        {
          "output_type": "execute_result",
          "execution_count": 12,
          "data": {
            "text/plain": "(1, 28, 28, 1)"
          },
          "metadata": {}
        }
      ],
      "execution_count": 12,
      "metadata": {}
    },
    {
      "cell_type": "code",
      "source": [],
      "outputs": [],
      "execution_count": null,
      "metadata": {}
    },
    {
      "cell_type": "code",
      "source": [],
      "outputs": [],
      "execution_count": null,
      "metadata": {}
    },
    {
      "cell_type": "code",
      "source": [],
      "outputs": [],
      "execution_count": null,
      "metadata": {}
    },
    {
      "cell_type": "code",
      "source": [],
      "outputs": [],
      "execution_count": null,
      "metadata": {}
    },
    {
      "cell_type": "code",
      "source": [],
      "outputs": [],
      "execution_count": null,
      "metadata": {}
    },
    {
      "cell_type": "code",
      "source": [],
      "outputs": [],
      "execution_count": null,
      "metadata": {}
    },
    {
      "cell_type": "code",
      "source": [],
      "outputs": [],
      "execution_count": null,
      "metadata": {}
    }
  ],
  "metadata": {
    "kernelspec": {
      "display_name": "Python 3",
      "language": "python",
      "name": "python3"
    },
    "language_info": {
      "name": "python",
      "version": "3.7.3",
      "mimetype": "text/x-python",
      "codemirror_mode": {
        "name": "ipython",
        "version": 3
      },
      "pygments_lexer": "ipython3",
      "nbconvert_exporter": "python",
      "file_extension": ".py"
    },
    "nteract": {
      "version": "0.26.0"
    }
  },
  "nbformat": 4,
  "nbformat_minor": 2
}