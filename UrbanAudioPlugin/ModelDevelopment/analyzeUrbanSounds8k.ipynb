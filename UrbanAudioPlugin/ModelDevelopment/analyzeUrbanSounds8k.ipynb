{
 "cells": [
  {
   "cell_type": "markdown",
   "metadata": {},
   "source": [
    "# Process UrbanSound8k"
   ]
  },
  {
   "cell_type": "markdown",
   "metadata": {},
   "source": [
    "## Resources\n",
    "* librosa: https://librosa.org/doc/latest/index.html"
   ]
  },
  {
   "cell_type": "markdown",
   "metadata": {},
   "source": [
    "## Import modules"
   ]
  },
  {
   "cell_type": "code",
   "execution_count": 21,
   "metadata": {},
   "outputs": [],
   "source": [
    "import IPython as ip\n",
    "\n",
    "import os \n",
    "from glob import glob\n",
    "import multiprocessing as mp\n",
    "\n",
    "import torch\n",
    "import torchaudio\n",
    "import torchvision\n",
    "from PIL import Image\n",
    "\n",
    "import numpy as np\n",
    "import pandas as pd\n",
    "from random import randint\n",
    "\n",
    "import librosa\n",
    "import librosa.display\n",
    "import sounddevice as sd\n",
    "import soundfile as sf\n",
    "\n",
    "import matplotlib\n",
    "import matplotlib.pyplot as plt"
   ]
  },
  {
   "cell_type": "markdown",
   "metadata": {},
   "source": [
    "## Declare paths"
   ]
  },
  {
   "cell_type": "code",
   "execution_count": 2,
   "metadata": {},
   "outputs": [],
   "source": [
    "data_path = 'UrbanSound8k'\n",
    "audio_path = 'audio'\n",
    "meta_path = 'metadata'"
   ]
  },
  {
   "cell_type": "code",
   "execution_count": 3,
   "metadata": {},
   "outputs": [],
   "source": [
    "bn_street_1 = 'background_noise/background_noise_150993__saphe__street-scene-1.wav'\n",
    "bn_street_2 = 'background_noise/207208__jormarp__high-street-of-gandia-valencia-spain.wav'\n",
    "bn_park = 'background_noise/268903__yonts__city-park-tel-aviv-israel.wav'\n",
    "bn_street_3 ='background_noise/173955__saphe__street-scene-3.wav'\n",
    "bn_paths = [bn_street_1,bn_street_2,bn_park,bn_street_3]"
   ]
  },
  {
   "cell_type": "markdown",
   "metadata": {},
   "source": [
    "## Inspect metadata"
   ]
  },
  {
   "cell_type": "code",
   "execution_count": 4,
   "metadata": {},
   "outputs": [
    {
     "name": "stdout",
     "output_type": "stream",
     "text": [
      "      slice_file_name    fsID  start        end  salience  fold  classID  \\\n",
      "0    100032-3-0-0.wav  100032    0.0   0.317551         1     5        3   \n",
      "1  100263-2-0-117.wav  100263   58.5  62.500000         1     5        2   \n",
      "2  100263-2-0-121.wav  100263   60.5  64.500000         1     5        2   \n",
      "3  100263-2-0-126.wav  100263   63.0  67.000000         1     5        2   \n",
      "4  100263-2-0-137.wav  100263   68.5  72.500000         1     5        2   \n",
      "\n",
      "              class  duration  \n",
      "0          dog_bark  0.317551  \n",
      "1  children_playing  4.000000  \n",
      "2  children_playing  4.000000  \n",
      "3  children_playing  4.000000  \n",
      "4  children_playing  4.000000  \n"
     ]
    }
   ],
   "source": [
    "meta_data = pd.read_csv(data_path+'/'+meta_path+'/UrbanSound8K.csv')\n",
    "meta_data['duration'] = meta_data['end']-meta_data['start']\n",
    "print(meta_data.head())"
   ]
  },
  {
   "cell_type": "code",
   "execution_count": 5,
   "metadata": {},
   "outputs": [
    {
     "data": {
      "text/html": [
       "<div>\n",
       "<style scoped>\n",
       "    .dataframe tbody tr th:only-of-type {\n",
       "        vertical-align: middle;\n",
       "    }\n",
       "\n",
       "    .dataframe tbody tr th {\n",
       "        vertical-align: top;\n",
       "    }\n",
       "\n",
       "    .dataframe thead th {\n",
       "        text-align: right;\n",
       "    }\n",
       "</style>\n",
       "<table border=\"1\" class=\"dataframe\">\n",
       "  <thead>\n",
       "    <tr style=\"text-align: right;\">\n",
       "      <th></th>\n",
       "      <th>classID</th>\n",
       "      <th>class</th>\n",
       "      <th>count</th>\n",
       "    </tr>\n",
       "  </thead>\n",
       "  <tbody>\n",
       "    <tr>\n",
       "      <th>0</th>\n",
       "      <td>0</td>\n",
       "      <td>air_conditioner</td>\n",
       "      <td>1000</td>\n",
       "    </tr>\n",
       "    <tr>\n",
       "      <th>1</th>\n",
       "      <td>1</td>\n",
       "      <td>car_horn</td>\n",
       "      <td>429</td>\n",
       "    </tr>\n",
       "    <tr>\n",
       "      <th>2</th>\n",
       "      <td>2</td>\n",
       "      <td>children_playing</td>\n",
       "      <td>1000</td>\n",
       "    </tr>\n",
       "    <tr>\n",
       "      <th>3</th>\n",
       "      <td>3</td>\n",
       "      <td>dog_bark</td>\n",
       "      <td>1000</td>\n",
       "    </tr>\n",
       "    <tr>\n",
       "      <th>4</th>\n",
       "      <td>4</td>\n",
       "      <td>drilling</td>\n",
       "      <td>1000</td>\n",
       "    </tr>\n",
       "    <tr>\n",
       "      <th>5</th>\n",
       "      <td>5</td>\n",
       "      <td>engine_idling</td>\n",
       "      <td>1000</td>\n",
       "    </tr>\n",
       "    <tr>\n",
       "      <th>6</th>\n",
       "      <td>6</td>\n",
       "      <td>gun_shot</td>\n",
       "      <td>374</td>\n",
       "    </tr>\n",
       "    <tr>\n",
       "      <th>7</th>\n",
       "      <td>7</td>\n",
       "      <td>jackhammer</td>\n",
       "      <td>1000</td>\n",
       "    </tr>\n",
       "    <tr>\n",
       "      <th>8</th>\n",
       "      <td>8</td>\n",
       "      <td>siren</td>\n",
       "      <td>929</td>\n",
       "    </tr>\n",
       "    <tr>\n",
       "      <th>9</th>\n",
       "      <td>9</td>\n",
       "      <td>street_music</td>\n",
       "      <td>1000</td>\n",
       "    </tr>\n",
       "  </tbody>\n",
       "</table>\n",
       "</div>"
      ],
      "text/plain": [
       "   classID             class  count\n",
       "0        0   air_conditioner   1000\n",
       "1        1          car_horn    429\n",
       "2        2  children_playing   1000\n",
       "3        3          dog_bark   1000\n",
       "4        4          drilling   1000\n",
       "5        5     engine_idling   1000\n",
       "6        6          gun_shot    374\n",
       "7        7        jackhammer   1000\n",
       "8        8             siren    929\n",
       "9        9      street_music   1000"
      ]
     },
     "execution_count": 5,
     "metadata": {},
     "output_type": "execute_result"
    }
   ],
   "source": [
    "meta_data.groupby(['classID','class']).size().reset_index().rename(columns={0:'count'})"
   ]
  },
  {
   "cell_type": "code",
   "execution_count": 6,
   "metadata": {},
   "outputs": [
    {
     "name": "stdout",
     "output_type": "stream",
     "text": [
      "<class 'pandas.core.frame.DataFrame'>\n",
      "RangeIndex: 8732 entries, 0 to 8731\n",
      "Data columns (total 9 columns):\n",
      " #   Column           Non-Null Count  Dtype  \n",
      "---  ------           --------------  -----  \n",
      " 0   slice_file_name  8732 non-null   object \n",
      " 1   fsID             8732 non-null   int64  \n",
      " 2   start            8732 non-null   float64\n",
      " 3   end              8732 non-null   float64\n",
      " 4   salience         8732 non-null   int64  \n",
      " 5   fold             8732 non-null   int64  \n",
      " 6   classID          8732 non-null   int64  \n",
      " 7   class            8732 non-null   object \n",
      " 8   duration         8732 non-null   float64\n",
      "dtypes: float64(3), int64(4), object(2)\n",
      "memory usage: 614.1+ KB\n",
      "None\n"
     ]
    }
   ],
   "source": [
    "print(meta_data.info())"
   ]
  },
  {
   "cell_type": "code",
   "execution_count": 7,
   "metadata": {},
   "outputs": [
    {
     "name": "stdout",
     "output_type": "stream",
     "text": [
      "dog_bark            1000\n",
      "children_playing    1000\n",
      "air_conditioner     1000\n",
      "street_music        1000\n",
      "drilling            1000\n",
      "engine_idling       1000\n",
      "jackhammer          1000\n",
      "siren                929\n",
      "car_horn             429\n",
      "gun_shot             374\n",
      "Name: class, dtype: int64\n"
     ]
    },
    {
     "data": {
      "text/plain": [
       "<AxesSubplot:title={'center':'class dist.'}>"
      ]
     },
     "execution_count": 7,
     "metadata": {},
     "output_type": "execute_result"
    },
    {
     "data": {
      "image/png": "[encoded data removed]",
      "text/plain": [
       "<Figure size 432x288 with 1 Axes>"
      ]
     },
     "metadata": {
      "needs_background": "light"
     },
     "output_type": "display_data"
    }
   ],
   "source": [
    "print(meta_data['class'].value_counts())\n",
    "meta_data['class'].value_counts().plot(kind='bar',title='class dist.')"
   ]
  },
  {
   "cell_type": "markdown",
   "metadata": {},
   "source": [
    "## Inspect audio files"
   ]
  },
  {
   "cell_type": "code",
   "execution_count": 8,
   "metadata": {},
   "outputs": [
    {
     "name": "stdout",
     "output_type": "stream",
     "text": [
      "Number of samples: 8732\n"
     ]
    }
   ],
   "source": [
    "audio_folders = glob(data_path+\"/\"+audio_path+\"/f*\")\n",
    "audio_files = {}\n",
    "for folder in sorted(audio_folders):\n",
    "    audio_files[folder.split(\"/\")[-1]] = glob(folder+\"/*.wav\")\n",
    "n_samples = sum([len(audio_files[k]) for k in audio_files.keys()])\n",
    "print(\"Number of samples: {}\".format(n_samples))"
   ]
  },
  {
   "cell_type": "code",
   "execution_count": 9,
   "metadata": {},
   "outputs": [],
   "source": [
    "def playAudioSample(sample_path):\n",
    "    ''' Reads .wav file as np.array '''\n",
    "    data, fs = sf.read(sample_path, dtype='float32') \n",
    "    sd.play(data, fs)\n",
    "    status = sd.wait() \n",
    "    \n",
    "def getSoundClass(sample_path,meta_data):\n",
    "    row = meta_data[meta_data['slice_file_name'] == sample_path]\n",
    "    return row['class'].values"
   ]
  },
  {
   "cell_type": "code",
   "execution_count": 10,
   "metadata": {},
   "outputs": [
    {
     "name": "stdout",
     "output_type": "stream",
     "text": [
      "Class: ['children_playing']\n"
     ]
    }
   ],
   "source": [
    "print(\"Class: {}\".format(getSoundClass(audio_files['fold1'][0].split(\"/\")[-1],meta_data)))\n",
    "playAudioSample(audio_files['fold1'][0])"
   ]
  },
  {
   "cell_type": "code",
   "execution_count": 11,
   "metadata": {},
   "outputs": [
    {
     "name": "stdout",
     "output_type": "stream",
     "text": [
      "Class: ['gun_shot']\n"
     ]
    }
   ],
   "source": [
    "print(\"Class: {}\".format(getSoundClass(audio_files['fold1'][1].split(\"/\")[-1],meta_data)))\n",
    "playAudioSample(audio_files['fold1'][1])"
   ]
  },
  {
   "cell_type": "code",
   "execution_count": 12,
   "metadata": {},
   "outputs": [
    {
     "name": "stdout",
     "output_type": "stream",
     "text": [
      "Class: ['air_conditioner']\n"
     ]
    }
   ],
   "source": [
    "print(\"Class: {}\".format(getSoundClass(audio_files['fold1'][2].split(\"/\")[-1],meta_data)))\n",
    "playAudioSample(audio_files['fold1'][2])"
   ]
  },
  {
   "cell_type": "markdown",
   "metadata": {},
   "source": [
    "## Resample at 22.5 kHz"
   ]
  },
  {
   "cell_type": "code",
   "execution_count": null,
   "metadata": {},
   "outputs": [],
   "source": [
    "new_sample_rate_dir = data_path+'/'+'audio_22_5_kHz'\n",
    "if not os.path.isdir(new_sample_rate_dir):\n",
    "    os.mkdir(new_sample_rate_dir)"
   ]
  },
  {
   "cell_type": "code",
   "execution_count": null,
   "metadata": {},
   "outputs": [],
   "source": [
    "def resampleWAV(wav_path,new_dir,new_sr=22500):\n",
    "    fold_name, wav_name = wav_path.split('/')[-2:]\n",
    "    new_wav_name = new_dir+\"/\"+fold_name+\"/\"+wav_name\n",
    "    if not os.path.isdir(new_dir+\"/\"+fold_name):\n",
    "        os.mkdir(new_dir+\"/\"+fold_name)\n",
    "    y, sr = librosa.load(wav_path, sr=new_sr)\n",
    "    sf.write(new_wav_name, y, sr)\n",
    "    \n",
    "for key, files in enumerate(audio_files):\n",
    "    [resampleWAV(file,new_sample_rate_dir) for file in audio_files[files]]"
   ]
  },
  {
   "cell_type": "markdown",
   "metadata": {},
   "source": [
    "## Data Augment Methods"
   ]
  },
  {
   "cell_type": "markdown",
   "metadata": {},
   "source": [
    "### Add Background Noise"
   ]
  },
  {
   "cell_type": "code",
   "execution_count": 13,
   "metadata": {},
   "outputs": [],
   "source": [
    "def add_background_noise(y,bn):\n",
    "    # Sample uniform for loudness of noise\n",
    "    w = np.random.uniform(.1,.5)\n",
    "    # Get length of noise and audio \n",
    "    bn_len = bn.shape[0]\n",
    "    y_len = y.shape[0]\n",
    "    # Get window of noise for bn\n",
    "    bn_start = randint(0,bn_len-y_len)\n",
    "    bn_end = bn_start+y_len\n",
    "    bn_split = bn[bn_start:bn_end]\n",
    "    # Add noise\n",
    "    z = (1-w)*y+w*bn_split\n",
    "    return z "
   ]
  },
  {
   "cell_type": "code",
   "execution_count": 14,
   "metadata": {},
   "outputs": [],
   "source": [
    "test_path = 'UrbanSound8k/audio_22_5_kHz/fold1/17913-4-0-1.wav'"
   ]
  },
  {
   "cell_type": "code",
   "execution_count": 15,
   "metadata": {},
   "outputs": [],
   "source": [
    "# Load background sounds \n",
    "bn_sounds = []\n",
    "for bn_path in bn_paths:\n",
    "    bn, _ = librosa.load(bn_path, sr=22500)\n",
    "    bn_sounds.append(bn)"
   ]
  },
  {
   "cell_type": "code",
   "execution_count": 16,
   "metadata": {},
   "outputs": [],
   "source": [
    "data, fs = sf.read(test_path, dtype='float32') \n",
    "new_sound = add_background_noise(data,bn_sounds[1])\n",
    "sd.play(new_sound, fs)\n",
    "status = sd.wait() "
   ]
  },
  {
   "cell_type": "markdown",
   "metadata": {},
   "source": [
    "### Add Pitch Shift"
   ]
  },
  {
   "cell_type": "code",
   "execution_count": 17,
   "metadata": {},
   "outputs": [],
   "source": [
    "def add_pitch_shift(y,step,sr=22500):\n",
    "    y_pitch_shift = librosa.effects.pitch_shift(y, sr, n_steps=step)\n",
    "    return y_pitch_shift"
   ]
  },
  {
   "cell_type": "code",
   "execution_count": 18,
   "metadata": {},
   "outputs": [],
   "source": [
    "data, fs = sf.read(test_path, dtype='float32') \n",
    "new_sound = add_pitch_shift(data,1)\n",
    "sd.play(new_sound, fs)\n",
    "status = sd.wait() "
   ]
  },
  {
   "cell_type": "markdown",
   "metadata": {},
   "source": [
    "### Add Time Stretch"
   ]
  },
  {
   "cell_type": "code",
   "execution_count": 19,
   "metadata": {},
   "outputs": [],
   "source": [
    "def add_time_stretch(y,rate):\n",
    "    y_stretch = librosa.effects.time_stretch(y, rate)\n",
    "    return y_stretch"
   ]
  },
  {
   "cell_type": "code",
   "execution_count": 20,
   "metadata": {},
   "outputs": [],
   "source": [
    "data, fs = sf.read(test_path, dtype='float32') \n",
    "new_sound = add_time_stretch(data,.5)\n",
    "sd.play(new_sound, fs)\n",
    "status = sd.wait() "
   ]
  },
  {
   "cell_type": "markdown",
   "metadata": {},
   "source": [
    "### Overlap audio samples "
   ]
  },
  {
   "cell_type": "code",
   "execution_count": null,
   "metadata": {},
   "outputs": [],
   "source": [
    "y1, sample_rate1 = librosa.load(audio_files['fold2'][0],mono=True) \n",
    "#y1 *= .1 # makes sound quieter\n",
    "sd.play(y1, sample_rate1)\n",
    "status = sd.wait() "
   ]
  },
  {
   "cell_type": "code",
   "execution_count": null,
   "metadata": {},
   "outputs": [],
   "source": [
    "y2, sample_rate2  = librosa.load(audio_files['fold2'][1],mono=True, dtype='float32') \n",
    "#y2 *= .1 # makes sound quieter\n",
    "sd.play(y2, sample_rate2)\n",
    "status = sd.wait() "
   ]
  },
  {
   "cell_type": "code",
   "execution_count": null,
   "metadata": {},
   "outputs": [],
   "source": [
    "# MERGE\n",
    "if y1.shape[0] > y2.shape[0]:\n",
    "    y1 = y1[:y2.shape[0]]\n",
    "else:\n",
    "    y2 = y2[:y1.shape[0]]\n",
    "    \n",
    "librosa.display.waveplot((y1+y2)/2, sr=int((sample_rate1+sample_rate2)/2))\n",
    "\n",
    "# REPRODUCE\n",
    "ip.display.Audio((y1+y2)/2, rate=int((sample_rate1+sample_rate2)/2))"
   ]
  },
  {
   "cell_type": "code",
   "execution_count": null,
   "metadata": {},
   "outputs": [],
   "source": [
    "# SAVE\n",
    "sf.write('overlap_demo.wav', (y1+y2)/2, int((sample_rate1+sample_rate2)/2), 'PCM_24')"
   ]
  },
  {
   "cell_type": "markdown",
   "metadata": {},
   "source": [
    "## Make spectrograms"
   ]
  },
  {
   "cell_type": "code",
   "execution_count": 22,
   "metadata": {},
   "outputs": [],
   "source": [
    "def make_MelSpectrogram(clip,sr=22050):\n",
    "    num_channels = 3\n",
    "    window_sizes = [25, 50, 100]\n",
    "    hop_sizes = [10, 25, 50]\n",
    "\n",
    "    # Zero-padding for clip(size <= 2205)\n",
    "    if len(clip) <= 2205:\n",
    "        clip = np.concatenate((clip, np.zeros(2205 - len(clip) + 1)))\n",
    "\n",
    "    specs = []\n",
    "    for i in range(num_channels):\n",
    "        window_length = int(round(window_sizes[i]*sr/1000))\n",
    "        hop_length = int(round(hop_sizes[i]*sr/1000))\n",
    "        clip = torch.Tensor(clip)\n",
    "        spec = torchaudio.transforms.MelSpectrogram(sample_rate=sr, n_fft=2205, win_length=window_length, hop_length=hop_length, n_mels=128)(clip)\n",
    "        eps = 1e-6\n",
    "        spec = spec.numpy()\n",
    "        spec = np.log(spec+ eps)\n",
    "        spec = np.asarray(torchvision.transforms.Resize((128, 250))(Image.fromarray(spec)))\n",
    "        # Scale between [0,1]\n",
    "        spec = (spec - np.min(spec))/np.ptp(spec)\n",
    "        specs.append(spec)\n",
    "    specs = np.array(specs)\n",
    "    specs = np.moveaxis(specs, 0, 2)\n",
    "    return specs "
   ]
  },
  {
   "cell_type": "code",
   "execution_count": 23,
   "metadata": {},
   "outputs": [],
   "source": [
    "data, fs = sf.read(test_path, dtype='float32') \n",
    "data_spect = make_MelSpectrogram(data)"
   ]
  },
  {
   "cell_type": "code",
   "execution_count": 24,
   "metadata": {},
   "outputs": [
    {
     "data": {
      "text/plain": [
       "<matplotlib.image.AxesImage at 0x7fd5dbe93048>"
      ]
     },
     "execution_count": 24,
     "metadata": {},
     "output_type": "execute_result"
    },
    {
     "data": {
      "image/png": "[encoded data removed]",
      "text/plain": [
       "<Figure size 576x576 with 1 Axes>"
      ]
     },
     "metadata": {
      "needs_background": "light"
     },
     "output_type": "display_data"
    }
   ],
   "source": [
    "cmap = plt.get_cmap('inferno')\n",
    "plt.figure(figsize=(8,8))\n",
    "plt.axis('off')\n",
    "plt.imshow(data_spect, interpolation='nearest') "
   ]
  },
  {
   "cell_type": "code",
   "execution_count": 25,
   "metadata": {},
   "outputs": [],
   "source": [
    "matplotlib.image.imsave('test_spect.png', data_spect)"
   ]
  },
  {
   "cell_type": "markdown",
   "metadata": {},
   "source": [
    "# Make DataSet\n",
    "## This takes a long time :("
   ]
  },
  {
   "cell_type": "markdown",
   "metadata": {},
   "source": [
    "### Read 22.5 kHz wav file names"
   ]
  },
  {
   "cell_type": "code",
   "execution_count": 26,
   "metadata": {},
   "outputs": [
    {
     "name": "stdout",
     "output_type": "stream",
     "text": [
      "Number of samples: 8732\n"
     ]
    }
   ],
   "source": [
    "audio_folders = glob(data_path+\"/audio_22_5_kHz\"+\"/f*\")\n",
    "audio_files = {}\n",
    "for folder in sorted(audio_folders):\n",
    "    audio_files[folder.split(\"/\")[-1]] = glob(folder+\"/*.wav\")\n",
    "n_samples = sum([len(audio_files[k]) for k in audio_files.keys()])\n",
    "print(\"Number of samples: {}\".format(n_samples))"
   ]
  },
  {
   "cell_type": "markdown",
   "metadata": {},
   "source": [
    "### Normal Dataset"
   ]
  },
  {
   "cell_type": "code",
   "execution_count": null,
   "metadata": {},
   "outputs": [],
   "source": [
    "cmap = plt.get_cmap('inferno')\n",
    "plt.figure(figsize=(8,8))\n",
    "\n",
    "if not os.path.isdir(data_path+'/audio_22_5_spect'):\n",
    "    os.mkdir(data_path+'/audio_22_5_spect')\n",
    "\n",
    "for k in audio_files.keys():\n",
    "    if not os.path.isdir(data_path+'/audio_22_5_spect/'+k):\n",
    "        os.mkdir(data_path+'/audio_22_5_spect/'+k)\n",
    "    for wav_file in audio_files[k]:\n",
    "        file_name = wav_file.split(\"/\")[-1].split(\".\")[0]\n",
    "        new_path = data_path+'/audio_22_5_spect/'+k+\"/\"+file_name+\".png\"              \n",
    "        data, fs = sf.read(wav_file, dtype='float32') \n",
    "        data_spect = make_MelSpectrogram(data)\n",
    "        matplotlib.image.imsave(new_path, data_spect)"
   ]
  },
  {
   "cell_type": "markdown",
   "metadata": {},
   "source": [
    "### Augment Dataset"
   ]
  },
  {
   "cell_type": "code",
   "execution_count": null,
   "metadata": {},
   "outputs": [],
   "source": [
    "if not os.path.isdir(data_path+'/audio_22_5_spect_aug'):\n",
    "    os.mkdir(data_path+'/audio_22_5_spect_aug')\n",
    "\n",
    "def augmentData(k):\n",
    "    if not os.path.isdir(data_path+'/audio_22_5_spect_aug/'+k):\n",
    "        os.mkdir(data_path+'/audio_22_5_spect_aug/'+k)\n",
    "    for wav_file in audio_files[k]:\n",
    "        file_name = wav_file.split(\"/\")[-1].split(\".\")[0]\n",
    "        new_path = data_path+'/audio_22_5_spect_aug/'+k+\"/\"+file_name            \n",
    "        data, fs = sf.read(wav_file, dtype='float32') \n",
    "        \n",
    "        # Add background noises 1\n",
    "        new_data = add_background_noise(data,bn_sounds[0])\n",
    "        data_spect = make_MelSpectrogram(new_data)\n",
    "        matplotlib.image.imsave(new_path+\"^bn1.png\", data_spect)\n",
    "        \n",
    "        # Add background noises 2\n",
    "        new_data = add_background_noise(data,bn_sounds[1])\n",
    "        data_spect = make_MelSpectrogram(new_data)\n",
    "        matplotlib.image.imsave(new_path+\"^bn2.png\", data_spect)\n",
    "        \n",
    "        # Add background noises 3\n",
    "        new_data = add_background_noise(data,bn_sounds[2])\n",
    "        data_spect = make_MelSpectrogram(new_data)\n",
    "        matplotlib.image.imsave(new_path+\"^bn3.png\", data_spect)\n",
    "        \n",
    "        # Add background noises 4\n",
    "        new_data = add_background_noise(data,bn_sounds[3])\n",
    "        data_spect = make_MelSpectrogram(new_data)\n",
    "        matplotlib.image.imsave(new_path+\"^bn4.png\", data_spect)\n",
    "        \n",
    "        # Add pitch shift -3.5\n",
    "        new_data = add_pitch_shift(data,-3.5)\n",
    "        data_spect = make_MelSpectrogram(new_data)\n",
    "        matplotlib.image.imsave(new_path+\"^ps_n3h.png\", data_spect)\n",
    "        \n",
    "        # Add pitch shift -2.5\n",
    "        new_data = add_pitch_shift(data,-2.5)\n",
    "        data_spect = make_MelSpectrogram(new_data)\n",
    "        matplotlib.image.imsave(new_path+\"^ps_n2h.png\", data_spect)\n",
    "\n",
    "        # Add pitch shift -2\n",
    "        new_data = add_pitch_shift(data,-2)\n",
    "        data_spect = make_MelSpectrogram(new_data)\n",
    "        matplotlib.image.imsave(new_path+\"^ps_n2.png\", data_spect)\n",
    "        \n",
    "        # Add pitch shift -1\n",
    "        new_data = add_pitch_shift(data,-1)\n",
    "        data_spect = make_MelSpectrogram(new_data)\n",
    "        matplotlib.image.imsave(new_path+\"^ps_n1.png\", data_spect)\n",
    "        \n",
    "        # Add pitch shift 1\n",
    "        new_data = add_pitch_shift(data,1)\n",
    "        data_spect = make_MelSpectrogram(new_data)\n",
    "        matplotlib.image.imsave(new_path+\"^ps_1.png\", data_spect)\n",
    "        \n",
    "        # Add pitch shift 2\n",
    "        new_data = add_pitch_shift(data,2)\n",
    "        data_spect = make_MelSpectrogram(new_data)\n",
    "        matplotlib.image.imsave(new_path+\"^ps_2.png\", data_spect)\n",
    "        \n",
    "        # Add pitch shift 2.5\n",
    "        new_data = add_pitch_shift(data,2.5)\n",
    "        data_spect = make_MelSpectrogram(new_data)\n",
    "        matplotlib.image.imsave(new_path+\"^ps_2h.png\", data_spect)\n",
    "        \n",
    "        # Add pitch shift 3.5\n",
    "        new_data = add_pitch_shift(data,3.5)\n",
    "        data_spect = make_MelSpectrogram(new_data)\n",
    "        matplotlib.image.imsave(new_path+\"^ps_3h.png\", data_spect)\n",
    "        \n",
    "        # Add time shift .81 \n",
    "        new_data = add_time_stretch(data,.81)\n",
    "        data_spect = make_MelSpectrogram(new_data)\n",
    "        matplotlib.image.imsave(new_path+\"^ts_81.png\", data_spect)\n",
    "        \n",
    "        # Add time shift .93 \n",
    "        new_data = add_time_stretch(data,.93)\n",
    "        data_spect = make_MelSpectrogram(new_data)\n",
    "        matplotlib.image.imsave(new_path+\"^ts_93.png\", data_spect)\n",
    "        \n",
    "        # Add time shift 1.07\n",
    "        new_data = add_time_stretch(data,1.07)\n",
    "        data_spect = make_MelSpectrogram(new_data)\n",
    "        matplotlib.image.imsave(new_path+\"^ts_107.png\", data_spect)\n",
    "        \n",
    "        # Add time shift 1.23\n",
    "        new_data = add_time_stretch(data,1.23)\n",
    "        data_spect = make_MelSpectrogram(new_data)\n",
    "        matplotlib.image.imsave(new_path+\"^ts_123.png\", data_spect)\n",
    "        \n",
    "pool = mp.Pool(processes=mp.cpu_count()) \n",
    "pool.map(augmentData, list(audio_files.keys()))"
   ]
  },
  {
   "cell_type": "code",
   "execution_count": null,
   "metadata": {},
   "outputs": [],
   "source": []
  },
  {
   "cell_type": "code",
   "execution_count": null,
   "metadata": {},
   "outputs": [],
   "source": []
  }
 ],
 "metadata": {
  "kernelspec": {
   "display_name": "tfp-env",
   "language": "python",
   "name": "anaconda-tfp_env"
  },
  "language_info": {
   "codemirror_mode": {
    "name": "ipython",
    "version": 3
   },
   "file_extension": ".py",
   "mimetype": "text/x-python",
   "name": "python",
   "nbconvert_exporter": "python",
   "pygments_lexer": "ipython3",
   "version": "3.6.12"
  }
 },
 "nbformat": 4,
 "nbformat_minor": 4
}
